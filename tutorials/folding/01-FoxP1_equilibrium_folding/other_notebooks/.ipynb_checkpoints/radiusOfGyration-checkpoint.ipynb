{
 "cells": [
  {
   "cell_type": "code",
   "execution_count": 1,
   "metadata": {},
   "outputs": [],
   "source": [
    "import os\n",
    "import numpy as np\n",
    "import mdtraj as md\n",
    "import gc"
   ]
  },
  {
   "cell_type": "code",
   "execution_count": 3,
   "metadata": {},
   "outputs": [
    {
     "name": "stdout",
     "output_type": "stream",
     "text": [
      "['/home/martin/Projects/FoxP/AA/FoldingSimulation_Tf/kx/01/01_trajectory.dcd', '/home/martin/Projects/FoxP/AA/FoldingSimulation_Tf/kx/02/02_trajectory.dcd', '/home/martin/Projects/FoxP/AA/FoldingSimulation_Tf/kx/03/03_trajectory.dcd', '/home/martin/Projects/FoxP/AA/FoldingSimulation_Tf/kx/04/04_trajectory.dcd', '/home/martin/Projects/FoxP/AA/FoldingSimulation_Tf/kx/05/05_trajectory.dcd', '/home/martin/Projects/FoxP/AA/FoldingSimulation_Tf/kx/06/06_trajectory.dcd', '/home/martin/Projects/FoxP/AA/FoldingSimulation_Tf/kx/07/07_trajectory.dcd', '/home/martin/Projects/FoxP/AA/FoldingSimulation_Tf/kx/08/08_trajectory.dcd', '/home/martin/Projects/FoxP/AA/FoldingSimulation_Tf/kx/09/09_trajectory.dcd', '/home/martin/Projects/FoxP/AA/FoldingSimulation_Tf/kx/10/10_trajectory.dcd', '/home/martin/Projects/FoxP/AA/FoldingSimulation_Tf/kx/11/11_trajectory.dcd', '/home/martin/Projects/FoxP/AA/FoldingSimulation_Tf/kx/12/12_trajectory.dcd', '/home/martin/Projects/FoxP/AA/FoldingSimulation_Tf/kx/13/13_trajectory.dcd', '/home/martin/Projects/FoxP/AA/FoldingSimulation_Tf/kx/14/14_trajectory.dcd', '/home/martin/Projects/FoxP/AA/FoldingSimulation_Tf/kx/15/15_trajectory.dcd']\n"
     ]
    }
   ],
   "source": [
    "# Store aligned trajectory files\n",
    "folder = '/home/martin/Projects/FoxP/AA/FoldingSimulation_Tf/kx/'\n",
    "trajectory_files = []\n",
    "for d in sorted(os.listdir(folder)):\n",
    "    if os.path.isdir(folder+d):\n",
    "        for f in sorted(os.listdir(folder+d)):\n",
    "            if f.endswith('.dcd'):\n",
    "                trajectory_files.append(folder+d+'/'+f)\n",
    "print(trajectory_files)"
   ]
  },
  {
   "cell_type": "code",
   "execution_count": 4,
   "metadata": {},
   "outputs": [],
   "source": [
    "# Define an SBMOpenMM All-Atom SBM from the forcefield parameters file\n",
    "topology = '../input/FoxP_monomer.pdb'"
   ]
  },
  {
   "cell_type": "code",
   "execution_count": 6,
   "metadata": {},
   "outputs": [],
   "source": [
    "# Compute radius of gyration\n",
    "rg = []\n",
    "for t in trajectory_files:\n",
    "    traj = md.load(t, top=topology)\n",
    "    rg.append(md.compute_rg(traj))\n",
    "    traj = None\n",
    "    gc.collect() # Free memory before moving to the next estimation\n",
    "rg_concatenated = np.concatenate(rg)"
   ]
  },
  {
   "cell_type": "code",
   "execution_count": 7,
   "metadata": {},
   "outputs": [],
   "source": [
    "np.save('../output/radiusOfGyration', rg_concatenated)"
   ]
  }
 ],
 "metadata": {
  "kernelspec": {
   "display_name": "Python 3",
   "language": "python",
   "name": "python3"
  },
  "language_info": {
   "codemirror_mode": {
    "name": "ipython",
    "version": 3
   },
   "file_extension": ".py",
   "mimetype": "text/x-python",
   "name": "python",
   "nbconvert_exporter": "python",
   "pygments_lexer": "ipython3",
   "version": "3.7.8"
  }
 },
 "nbformat": 4,
 "nbformat_minor": 4
}
