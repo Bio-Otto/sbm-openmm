{
 "cells": [
  {
   "cell_type": "markdown",
   "metadata": {},
   "source": [
    "### Introduction\n",
    "\n",
    "sbmOpenMM is a python library which facilitates setting up simulations of structure based models (SBMs) for protein systems, using the molecular dynamics (MD) framework of OpenMM. Essentially, the library reads a PDB file and creates a force field in which the input structure is defined as the global energy minimum in the potential energy function. These kind of force fields are referred to as topology-based, because, the interactions in it do not depend on the details of the chemical composition of the system, but only on the structures’ connectivities and geometries.\n",
    "\n",
    "Creating a simulation is as simple as importing the library and calling the SBM model to be used to represent the system. Two model flavors can be selected depending on the atomic details you want to employ. One of the faster and optimal method is a coarse-grained representation of the residues in the protein, in which each residue is replaced by one bead centered in its alpha-carbon atom. The model is referred as the CA model and the details of the force field can be read [elsewhere](). Here we review how to set up a simple simulation using the CA model, we review in a different [section](https://mon.uvic.cat/cbbl/research/software/sbmopenmm/tutorials/02-coarse-grained-sbm-simulations/) how to set up an all-atom simulation."
   ]
  },
  {
   "cell_type": "markdown",
   "metadata": {},
   "source": [
    "### Requirements \n",
    "\n",
    "- [OpenMM python API](http://openmm.org/)\n",
    "- [sbmOpenMM library](https://github.com/CompBiochBiophLab/sbm-openmm)\n",
    "- [MDTraj library](http://mdtraj.org/)\n",
    "- [Numpy](https://numpy.org/)\n",
    "- [Matplotlib](https://matplotlib.org/)"
   ]
  },
  {
   "cell_type": "markdown",
   "metadata": {},
   "source": [
    "### Coarse grained SBM simulations - The alpha-carbon (CA) model\n",
    "\n",
    "Briefly, in the CA model, all the alpha-carbon beads in one chain are bonded together by an harmonic potential, using the input structural distances (i.e bond lengths) as the equilibrium distances. The same idea is applied to keep the beads' angles. The torsional dihedral angles between the beads are also biased to adopt the configuration in the input structure, but through the use of a periodic torsion potential. The non-bonded interactions are modeled with special Lennard-Jones (LJ) potentials. On one hand, the native contacts defined for the target structure are maintained through a 12-10 LJ potential, which, in contrast to a typical (12-6) LJ, helps to limit interactions between the beads that would occur at very long distances. Finally, all non-native interactions (i.e. any interaction between the beads that is not a native contact nor a bonded one), are kept only as excluded volume interactions to avoid the self-crossing of the polypetide chains. This is accomplished by using only the repulsive term (12 exponent) of the the LJ potential.\n",
    "\n",
    "The sbmOpenMM library contains a model class in which default force fields can be loaded easily. But, in order to load any model from it, we first need 2 input files:\n",
    "\n",
    "1) An input PDB: The PDB file must contain the structure of the protein system to simulate, always considering that the different chains of the proteins are continuous (i.e. not missing internal residues) and do not contain ligands or solvent molecules (just the protein atoms).\n",
    "\n",
    "2) A contact file: The file contains the pair of indexes of the atoms forming native interactions, which are present in the target (native) configuration.\n",
    "\n",
    "Having the files available and in order to use the CA model for our protein system, we need first to import the sbmOpenMM library together with the [OpenMM python API](http://docs.openmm.org/development/api-python/index.html)"
   ]
  },
  {
   "cell_type": "code",
   "execution_count": 1,
   "metadata": {},
   "outputs": [],
   "source": [
    "#Import OpenMM library\n",
    "from simtk.openmm.app import *\n",
    "from simtk.openmm import *\n",
    "from simtk.unit import *\n",
    "\n",
    "#Import sbmOpenMM library\n",
    "import sbmOpenMM"
   ]
  },
  {
   "cell_type": "markdown",
   "metadata": {},
   "source": [
    "In this tutorial we will use a PDB and contact file provided in the input folder of this tutorial. The protein file was modified from the [1YPA.pdb](https://www.rcsb.org/structure/1YPA) file and contains residues 22-84 of the subtilisin-chymotrypsin inhibitor-2A. The contact file was generated using the [SMOG2](http://smog-server.org/smog2/) program using the pdb file as input."
   ]
  },
  {
   "cell_type": "code",
   "execution_count": 2,
   "metadata": {},
   "outputs": [],
   "source": [
    "#Set the input locations as variables.\n",
    "pdb_file = 'inputs/1YPA_I.pdb'\n",
    "contact_file = 'inputs/1YPA_I_CA.contacts'"
   ]
  },
  {
   "cell_type": "markdown",
   "metadata": {},
   "source": [
    "We load this two files into the sbmOpenMM.models.getCAModel() method to instantiate the sbmOpenMM.system class with default parameters for the CA model. This oject contains all the necessary information to simulate our system with openMM.\n",
    "\n",
    "It is important to note that the contact file has atom indexes associated with a configuration containing only CA atoms. For this reason it does not match the full-atom pdb file's numbering. If the files are compatible in terms of the number of residues (i.e. CA atoms) sbmOpenMM.models.getCAModel() will preserve only the CA atoms from the input pdb file. "
   ]
  },
  {
   "cell_type": "code",
   "execution_count": 3,
   "metadata": {
    "scrolled": false
   },
   "outputs": [
    {
     "name": "stdout",
     "output_type": "stream",
     "text": [
      "Generating CA SBM for structure file inputs/1YPA_I.pdb\n",
      "\n",
      "Setting up geometrical parameters:\n",
      "_________________________________\n",
      "Keeping only alpha carbon atoms in topology\n",
      "Added 64 CA atoms\n",
      "Added 63 bonds\n",
      "Added 62 angles\n",
      "Added 61 torsions\n",
      "Reading contacts from contact file: inputs/1YPA_I_CA.contacts\n",
      "Added 164 native contacts\n",
      "\n",
      "Setting up default forcefield parameters:\n",
      "________________________________________\n",
      "Adding default bond parameters:\n",
      "Adding default angle parameters:\n",
      "Adding default torsion parameters:\n",
      "Adding default contact parameters:\n",
      "Adding default excluded volume parameters:\n",
      "\n",
      "Adding Forces:\n",
      "_____________\n",
      "Added Harmonic Bond Forces\n",
      "Added Harmonic Angle Forces\n",
      "Added Periodic Torsion Forces\n",
      "Added Lennard Jones 12-10 Forces to native contacts\n",
      "Added Lennard Jones 12 non-bonded Forces\n",
      "\n",
      "Creating System Object:\n",
      "______________________\n",
      "The Potential Energy of the system is : -163.62130737304688 kJ/mol\n",
      "The Harmonic Bond Energy is: 1.4299672557172016e-09 kj/mol\n",
      "The Harmonic Angle Energy is: 3.439026841078885e-11 kj/mol\n",
      "The Periodic Torsion Energy is: 1.4901161193847656e-07 kj/mol\n",
      "The LJ 12-10 Contact Energy is: -164.0 kj/mol\n",
      "The LJ 12 Repulsion Energy is: 0.3786963224411011 kj/mol\n",
      "\n",
      "OpenMM system Object created\n",
      "\n"
     ]
    }
   ],
   "source": [
    "#Create an sbmOpenMM.system() object and store it in \"sbmCAModelModel\" variable. \n",
    "sbmCAModel = sbmOpenMM.models.getCAModel(pdb_file, contact_file)"
   ]
  },
  {
   "cell_type": "markdown",
   "metadata": {},
   "source": [
    "We can use the output to follow the steps that were executed to create the sbmOpenMM system object. First, the input pdb is read and an OpenMM topology object is created from it. After this, only alpha-carbon atoms are kept and all their bonds, angles and torsions values are caculated and stored. The contact file is also read and the pairs defined inside are added as native contacts. Then, the method adds the default parameters and forces for the specified model (CA in this case) and, finally, it creates an openmm.system object. All the parameters created are stored inside the attributes of the sbmOpenMM.system() object (sbmCAModel in our case). \n",
    "\n",
    "In the last printed output we can see the potential energy details of the input configuration given the newly created SBM force field. Note that most of the energy terms in the force field are zero, except for the non-bonded terms. The LJ 12-10 term is negative, because it reflects the favorable native contact interactions. On the other hand, the LJ 12 term is positive because it represents the repulsion force accounting for the excuded volume of the beads. Remember that in this model all the beads radii are equal and arbitrarily selected (for more details see).  "
   ]
  },
  {
   "cell_type": "markdown",
   "metadata": {},
   "source": [
    "Now that we have succesfully created our SBM model we can simulate it using OpenMM. For this we are going to employ a [Langevin Integrator](http://docs.openmm.org/development/api-python/generated/simtk.openmm.openmm.LangevinIntegrator.html) with a friction coefficient of 1 $ps^{−1}$, an arbitrary temperature of 100 reduced-temperature-units (RTU) and a timestep of 0.5 $fs$."
   ]
  },
  {
   "cell_type": "code",
   "execution_count": 4,
   "metadata": {},
   "outputs": [],
   "source": [
    "#Define integrator and context for the simulation\n",
    "integrator = LangevinIntegrator(100, 1/picosecond, 0.5*femtoseconds)\n",
    "simulation = Simulation(sbmCAModel.topology, sbmCAModel.system, integrator)"
   ]
  },
  {
   "cell_type": "markdown",
   "metadata": {},
   "source": [
    "We also have to create a simulation context, which is initilised with an OpenMM topology, system and integrator. The first two are stored as attributes in our \"sbmCAModel\" object. Finally, we give the initial positions of our system to this newly created OpenMM context:"
   ]
  },
  {
   "cell_type": "code",
   "execution_count": 5,
   "metadata": {},
   "outputs": [],
   "source": [
    "#Set initial positions\n",
    "simulation.context.setPositions(sbmCAModel.positions)"
   ]
  },
  {
   "cell_type": "markdown",
   "metadata": {},
   "source": [
    "Before running the simulation we would like to set up the storing of the output information into files. This makes it easier to analyse the simulations later using separate scripts. In OpenMM this is controlled passing reporters to the OpenMM simulation object. We will create at least two reporters for running the SBM simulation. \n",
    "\n",
    "First, we add a DCD reporter which allows us to write a binary trajectory file containing the coordinates of the simulation every a specified number steps."
   ]
  },
  {
   "cell_type": "code",
   "execution_count": 6,
   "metadata": {},
   "outputs": [],
   "source": [
    "#Add a DCD reporter that writes coordinates every 100 steps.\n",
    "simulation.reporters.append(DCDReporter('traj.dcd', 100))"
   ]
  },
  {
   "cell_type": "markdown",
   "metadata": {},
   "source": [
    "Then, we will add a special reporter that will allow us to easily print all the energy terms in our SBM force field into a file:"
   ]
  },
  {
   "cell_type": "code",
   "execution_count": 7,
   "metadata": {},
   "outputs": [],
   "source": [
    "#Add a SBM reporter that writes energies every 100 steps.\n",
    "simulation.reporters.append(sbmOpenMM.sbmReporter('energy.data', 100, sbmObject=sbmCAModel,\n",
    "                                                  step=True, potentialEnergy=True, temperature=True))"
   ]
  },
  {
   "cell_type": "markdown",
   "metadata": {},
   "source": [
    "Note that this reporter is a special version of the [StateDataReporter](http://docs.openmm.org/7.0.0/api-python/generated/simtk.openmm.app.statedatareporter.StateDataReporter.html) class in OpenMM, which additionally takes the SBM object as a keyword argument. When the SBM object is given, the reporter additionally prints all the energy terms of the SBM force field into the reporter file."
   ]
  },
  {
   "cell_type": "markdown",
   "metadata": {},
   "source": [
    "Optionally, we can make this reporter to print the energies as standard output for visualising it while we run the script:"
   ]
  },
  {
   "cell_type": "code",
   "execution_count": 8,
   "metadata": {},
   "outputs": [],
   "source": [
    "from sys import stdout\n",
    "# #Add a SBM reporter that prints energies every 20000 steps.\n",
    "simulation.reporters.append(sbmOpenMM.sbmReporter(stdout, 20000, sbmObject=sbmCAModel,\n",
    "                                                  step=True, potentialEnergy=True, temperature=True))"
   ]
  },
  {
   "cell_type": "markdown",
   "metadata": {},
   "source": [
    "Now we can proceed with the molecular simulation. We will run the system and follow its trajectory during 2M steps (1 ns) of MD."
   ]
  },
  {
   "cell_type": "code",
   "execution_count": 9,
   "metadata": {
    "scrolled": true
   },
   "outputs": [
    {
     "name": "stdout",
     "output_type": "stream",
     "text": [
      "Simulation started\n",
      "#\"Step\",\"Potential Energy (kJ/mole)\",\"Temperature (K)\",\"Harmonic Bond Energy (kJ/mol)\",\"Harmonic Angle Energy (kJ/mol)\",\"Periodic Torsion Energy (kJ/mol)\",\"LJ 12-10 Contact Energy (kJ/mol)\",\"LJ 12 Repulsion Energy (kJ/mol)\"\n",
      "20000,-85.4189224243164,87.4905940702139,26.834014892578125,19.919464111328125,5.944512367248535,-138.35223388671875,0.23532485961914062\n",
      "40000,-72.94734191894531,94.58380350633507,27.96638298034668,20.77147674560547,9.353144645690918,-131.29771423339844,0.2593652307987213\n",
      "60000,-86.94026184082031,86.52390786961753,21.356769561767578,18.192338943481445,9.201053619384766,-136.0538787841797,0.3634471595287323\n",
      "80000,-78.37590789794922,104.4640980427049,21.761714935302734,24.663894653320312,7.169027805328369,-132.2465362548828,0.2759958505630493\n",
      "100000,-88.37723541259766,106.02497810610056,19.348920822143555,15.495527267456055,9.572325706481934,-133.11260986328125,0.3186030387878418\n",
      "120000,-68.64754486083984,90.26366103632334,27.557601928710938,23.15717124938965,11.120850563049316,-130.79896545410156,0.3157948851585388\n",
      "140000,-65.66996002197266,97.00930722576422,28.335477828979492,21.83072280883789,11.920366287231445,-128.02638244628906,0.26984903216362\n",
      "160000,-67.7421875,112.03005164153826,24.838260650634766,24.65535545349121,10.178804397583008,-127.66761779785156,0.2530088722705841\n",
      "180000,-81.03267669677734,140.9105421638263,26.332809448242188,16.875797271728516,10.63070297241211,-135.3468475341797,0.4748634994029999\n",
      "200000,-71.00772857666016,104.15493650773557,30.408964157104492,21.620590209960938,10.949634552001953,-134.25192260742188,0.2650003135204315\n",
      "220000,-66.13082885742188,95.446743497256,30.03936004638672,20.29806900024414,11.366985321044922,-128.09481811523438,0.2595781683921814\n",
      "240000,-83.75782012939453,90.03065345455008,22.963394165039062,16.663087844848633,8.785429000854492,-132.49639892578125,0.326673299074173\n",
      "260000,-62.323280334472656,105.5783211382505,32.60529327392578,20.555461883544922,13.106480598449707,-128.908203125,0.31769758462905884\n",
      "280000,-82.1153564453125,111.07070390329976,23.839599609375,18.880966186523438,9.38270378112793,-134.44229125976562,0.22366361320018768\n",
      "300000,-74.16230773925781,98.27084371686311,26.809791564941406,20.87963104248047,10.513681411743164,-132.61392211914062,0.2485104501247406\n",
      "320000,-75.80906677246094,121.08919199341986,21.26064109802246,19.630233764648438,11.070068359375,-128.02627563476562,0.25626489520072937\n",
      "340000,-67.9635009765625,95.68138278913739,22.484439849853516,19.473941802978516,14.15390396118164,-124.44661712646484,0.37082961201667786\n",
      "360000,-87.70246887207031,88.51530646395055,22.321556091308594,19.124696731567383,8.21835708618164,-137.69456481933594,0.32749077677726746\n",
      "380000,-79.26789855957031,107.07061481781595,29.142410278320312,23.330841064453125,7.574774265289307,-139.58872985839844,0.27279865741729736\n",
      "400000,-67.57068634033203,89.1048234709177,25.960758209228516,20.752809524536133,8.440717697143555,-122.90185546875,0.17689189314842224\n",
      "420000,-78.39037322998047,101.17948172246417,24.863252639770508,18.76477813720703,11.574237823486328,-133.80979919433594,0.2171681672334671\n",
      "440000,-87.53604888916016,110.81066424285959,24.325044631958008,15.505083084106445,6.6538405418396,-134.16342163085938,0.14340387284755707\n",
      "460000,-75.1999282836914,88.4003534403368,29.829158782958984,21.34883689880371,6.40614128112793,-133.15313720703125,0.36906853318214417\n",
      "480000,-91.91173553466797,98.45263662266896,24.44430923461914,14.462444305419922,6.971281051635742,-138.0926513671875,0.3028848469257355\n",
      "500000,-51.88430404663086,102.99701201932953,23.202980041503906,23.964649200439453,21.053747177124023,-120.3587646484375,0.25309085845947266\n",
      "520000,-66.87965393066406,92.8957265947349,27.10858726501465,19.74810791015625,14.587434768676758,-128.67315673828125,0.349372535943985\n",
      "540000,-78.57737731933594,95.65545088522592,22.145328521728516,14.314655303955078,13.655324935913086,-128.9080810546875,0.2153950333595276\n",
      "560000,-81.2164306640625,85.01036737953861,20.94235610961914,24.686813354492188,6.922490119934082,-134.07333374023438,0.30524954199790955\n",
      "580000,-79.34114074707031,131.30297704103742,27.012081146240234,20.381317138671875,8.592728614807129,-135.60919189453125,0.2819194197654724\n",
      "600000,-77.24026489257812,103.42107558668005,27.823287963867188,18.859800338745117,10.697031021118164,-134.91903686523438,0.2986544966697693\n",
      "620000,-76.67459106445312,76.38361920111048,24.219635009765625,19.780311584472656,11.353291511535645,-132.24057006835938,0.21274013817310333\n",
      "640000,-60.402278900146484,109.66008776818734,37.75196838378906,23.366092681884766,8.389101028442383,-130.1664581298828,0.25701427459716797\n",
      "660000,-82.41184997558594,110.47189356859283,17.841840744018555,21.043838500976562,13.268131256103516,-134.91665649414062,0.35100334882736206\n",
      "680000,-62.29325485229492,100.90679611733177,23.098772048950195,25.497074127197266,15.14584732055664,-126.30349731445312,0.2685450613498688\n",
      "700000,-79.00798797607422,99.87021327921873,19.308610916137695,16.677658081054688,11.987691879272461,-127.24930572509766,0.2673567831516266\n",
      "720000,-82.58460998535156,102.4377413145422,28.60605239868164,17.03506088256836,7.37379789352417,-135.82887268066406,0.22934868931770325\n",
      "740000,-70.1771469116211,121.79848450039465,25.866222381591797,20.207889556884766,10.321969032287598,-126.83042907714844,0.25720518827438354\n",
      "760000,-85.10304260253906,107.68513674934411,19.468624114990234,18.967754364013672,10.629167556762695,-134.58853149414062,0.41995179653167725\n",
      "780000,-85.00762939453125,103.57895356006884,23.410564422607422,18.640830993652344,8.137462615966797,-135.46240234375,0.26590850949287415\n",
      "800000,-68.93987274169922,95.90934405675056,29.545936584472656,16.693889617919922,7.822901248931885,-123.20831298828125,0.20571257174015045\n",
      "820000,-72.20633697509766,92.77607776801251,27.998188018798828,21.61986541748047,7.312743663787842,-129.3230743408203,0.18593387305736542\n",
      "840000,-75.42349243164062,115.39810191103446,30.33876609802246,19.163530349731445,7.558137893676758,-132.7238006591797,0.23986850678920746\n",
      "860000,-71.15994262695312,129.83416730351126,32.04208755493164,20.515743255615234,8.097864151000977,-132.13548278808594,0.31986066699028015\n",
      "880000,-78.46094512939453,83.08005813936963,26.97728157043457,17.19375228881836,8.928790092468262,-131.89710998535156,0.3363399803638458\n",
      "900000,-73.56879425048828,100.12870154231723,33.625205993652344,15.56273078918457,10.06805419921875,-133.13157653808594,0.30679091811180115\n",
      "920000,-75.38325500488281,94.09017275042866,29.206497192382812,17.039142608642578,8.914815902709961,-130.8402862548828,0.29657748341560364\n",
      "940000,-74.87921142578125,86.16626713726997,19.128721237182617,19.047531127929688,12.061594009399414,-125.4275131225586,0.31045228242874146\n",
      "960000,-70.44648742675781,107.94402233264516,29.219890594482422,19.62957763671875,10.306753158569336,-129.89378356933594,0.291074275970459\n",
      "980000,-72.18524932861328,121.10205840851071,25.143409729003906,20.7937068939209,7.199674606323242,-125.6433334350586,0.32129761576652527\n",
      "1000000,-74.00773620605469,91.04853916045792,23.883014678955078,15.56161117553711,14.733325958251953,-128.50021362304688,0.31453651189804077\n",
      "1020000,-49.907161712646484,116.34939771161956,39.00452423095703,33.03944778442383,8.468156814575195,-130.63551330566406,0.21621790528297424\n",
      "1040000,-86.34114837646484,118.21926717286172,23.909351348876953,19.60697364807129,7.81837797164917,-137.89968872070312,0.22385074198246002\n",
      "1060000,-86.67121124267578,97.8783901072079,26.07141876220703,13.661334991455078,6.609156608581543,-133.380859375,0.3677457273006439\n",
      "1080000,-84.7413101196289,96.73509615878781,31.496559143066406,14.86089038848877,5.100831031799316,-136.56898498535156,0.3694009780883789\n",
      "1100000,-58.606285095214844,93.61557508873246,29.53818130493164,19.99690055847168,15.822452545166016,-124.23262023925781,0.2688000798225403\n",
      "1120000,-77.67284393310547,96.2975739933738,28.53455352783203,18.032947540283203,11.692728042602539,-136.18763732910156,0.2545640468597412\n",
      "1140000,-75.95417785644531,115.11313316239445,27.14767074584961,13.251518249511719,15.939432144165039,-132.50704956054688,0.21425330638885498\n",
      "1160000,-63.539371490478516,100.19175639835755,27.405208587646484,19.70384979248047,16.062063217163086,-126.92398071289062,0.21348659694194794\n"
     ]
    },
    {
     "name": "stdout",
     "output_type": "stream",
     "text": [
      "1180000,-57.438819885253906,116.46218877091233,23.99146842956543,22.891708374023438,17.196311950683594,-121.72602844238281,0.20771878957748413\n",
      "1200000,-62.31789779663086,103.37307285897718,32.61231231689453,20.906965255737305,12.993671417236328,-129.0704345703125,0.23958159983158112\n",
      "1220000,-82.52043151855469,94.22456353108998,28.00873374938965,14.174851417541504,10.39627742767334,-135.3812255859375,0.28094199299812317\n",
      "1240000,-78.49555969238281,88.45253090106294,23.058032989501953,18.208309173583984,11.717185974121094,-131.82156372070312,0.34247252345085144\n",
      "1260000,-80.59107208251953,93.05752864724535,29.677175521850586,17.135543823242188,8.371500015258789,-136.148193359375,0.37290263175964355\n",
      "1280000,-81.36595153808594,111.85373692003297,21.321821212768555,13.621347427368164,9.458492279052734,-126.02774047851562,0.26011520624160767\n",
      "1300000,-63.8463249206543,90.32535284358106,24.418983459472656,32.222930908203125,10.086461067199707,-130.8858184814453,0.311126172542572\n",
      "1320000,-78.03170013427734,108.93961091272642,29.53351402282715,18.836517333984375,9.114776611328125,-135.85061645507812,0.3341119587421417\n",
      "1340000,-94.57693481445312,108.03355157714478,23.94383430480957,15.283028602600098,9.309126853942871,-143.49826049804688,0.385343462228775\n",
      "1360000,-68.28227996826172,100.18040842101067,33.88218688964844,21.23981285095215,6.533931255340576,-130.19082641601562,0.2526191174983978\n",
      "1380000,-79.66336059570312,108.06379895744226,19.62349510192871,21.167888641357422,8.386722564697266,-129.1942138671875,0.3527399003505707\n",
      "1400000,-71.3198013305664,95.27743141845241,24.639041900634766,23.860004425048828,10.012662887573242,-130.1999969482422,0.36848580837249756\n",
      "1420000,-70.08040618896484,110.88129320231234,23.258838653564453,24.623798370361328,13.155912399291992,-131.4012908935547,0.28234249353408813\n",
      "1440000,-89.41514587402344,112.21548873212247,15.91847038269043,17.30362319946289,8.362279891967773,-131.26364135742188,0.2641313374042511\n",
      "1460000,-89.48902130126953,87.2235955521847,23.815935134887695,17.96495819091797,7.348532676696777,-138.9773406982422,0.358884334564209\n",
      "1480000,-82.827392578125,112.01589839265067,30.81760025024414,19.122798919677734,4.578465938568115,-137.7496337890625,0.4033670723438263\n",
      "1500000,-67.3521728515625,97.40961639055352,29.618946075439453,25.787769317626953,11.59509563446045,-134.6156768798828,0.2616885304450989\n",
      "1520000,-73.32209014892578,105.9104564229028,24.285816192626953,21.296833038330078,11.075891494750977,-130.26559448242188,0.28496456146240234\n",
      "1540000,-86.87609100341797,102.29764359494408,23.1663818359375,15.093331336975098,8.66303825378418,-134.14984130859375,0.35101109743118286\n",
      "1560000,-72.58671569824219,102.82902383403457,24.994733810424805,26.20204734802246,10.077967643737793,-134.18626403808594,0.3247941732406616\n",
      "1580000,-56.18825912475586,81.30558563878006,29.496068954467773,30.085369110107422,7.693409442901611,-123.72028350830078,0.2571703791618347\n",
      "1600000,-77.0462417602539,108.6179637902352,24.87638282775879,15.784862518310547,10.799179077148438,-128.87477111816406,0.3681039810180664\n",
      "1620000,-63.46095275878906,108.31247492148638,25.66942024230957,24.99501609802246,13.514598846435547,-127.98624420166016,0.3462565839290619\n",
      "1640000,-67.7162094116211,92.28603456186913,26.087291717529297,21.776351928710938,7.796886444091797,-123.60809326171875,0.231345534324646\n",
      "1660000,-75.46598052978516,111.9104802698121,23.41942596435547,17.071369171142578,11.569865226745605,-127.7669677734375,0.24031558632850647\n",
      "1680000,-84.73397827148438,99.89281778526382,28.03061866760254,19.00657844543457,6.8244476318359375,-138.9228973388672,0.327273428440094\n",
      "1700000,-78.87040710449219,118.76331709156855,28.132251739501953,17.078617095947266,11.388893127441406,-135.71128845214844,0.24111364781856537\n",
      "1720000,-81.24099731445312,105.89539381208779,26.440441131591797,12.954357147216797,5.998063087463379,-126.91737365722656,0.283507764339447\n",
      "1740000,-78.70584869384766,94.00097622424666,24.52438735961914,21.89999771118164,7.544925689697266,-132.9147186279297,0.23957055807113647\n",
      "1760000,-64.67943572998047,103.85596339487604,25.128856658935547,22.037137985229492,14.641669273376465,-126.8419189453125,0.3548259735107422\n",
      "1780000,-73.54197692871094,94.50082794786496,17.778217315673828,18.025861740112305,16.8241024017334,-126.34260559082031,0.17244906723499298\n",
      "1800000,-89.72174835205078,112.56666511373354,22.432422637939453,15.789855003356934,9.648208618164062,-137.8209991455078,0.22875675559043884\n",
      "1820000,-83.13928985595703,88.34968186731808,18.89902114868164,23.106342315673828,8.229496955871582,-133.7449188232422,0.37076786160469055\n",
      "1840000,-78.12586975097656,118.35045792755989,28.3145809173584,16.6634521484375,6.622284412384033,-129.99411010742188,0.26792898774147034\n",
      "1860000,-67.3593521118164,100.18177475315166,29.30629539489746,26.68308448791504,11.895492553710938,-135.54673767089844,0.3025221824645996\n",
      "1880000,-67.23680114746094,105.7114466486355,25.06187629699707,19.37578582763672,8.986695289611816,-120.86619567871094,0.20503059029579163\n",
      "1900000,-72.92047882080078,83.5720678589997,29.99803352355957,20.455398559570312,9.007331848144531,-132.61875915527344,0.23751923441886902\n",
      "1920000,-80.14875030517578,93.94315903892048,28.791976928710938,21.54763412475586,5.242753028869629,-136.04568481445312,0.3145689070224762\n",
      "1940000,-77.99003601074219,117.103726570838,25.516681671142578,20.629844665527344,8.461627006530762,-132.90576171875,0.30757421255111694\n",
      "1960000,-75.8130874633789,94.18287987980798,25.799068450927734,28.00374984741211,5.878140926361084,-135.85125732421875,0.3572159707546234\n",
      "1980000,-75.62118530273438,95.29845208794832,24.139625549316406,18.88627815246582,11.408119201660156,-130.23997497558594,0.18476982414722443\n",
      "2000000,-79.345947265625,86.74128675878553,27.139480590820312,15.53441047668457,9.6505126953125,-131.9256134033203,0.25526437163352966\n",
      "--- Finished in 60.569085121154785 seconds ---\n"
     ]
    }
   ],
   "source": [
    "import time\n",
    "\n",
    "print('Simulation started')\n",
    "start_time = time.time()\n",
    "for i in range(20000):\n",
    "    simulation.step(100)\n",
    "print(\"--- Finished in %s seconds ---\" % ((time.time() - start_time)))"
   ]
  },
  {
   "cell_type": "markdown",
   "metadata": {},
   "source": [
    "The simulation finished in approximately a minute using a laptop computer with a GeForce GTX 1050 Mobile GPU. This acceleration is due to the scaling capabilities of OpenMM using GPUs and to the high coarse graining  of the forcefield employed. However, it is important to note that 1 $ns$ simulation using an SBM model is not directly comparable to the same amount of time in a more detailed force field (e.g. fully solvated system, electrostatics, etc.). Always take into account the simplifications made by the model when interpreting the data generated by it. \n",
    "\n",
    "When running the simulation two files should have been written to the system, the energy file, \"energy.data\", and the trajectory file, \"traj.dcd\". These files should be mostly all you will need to analyse the molecular simulation and start making sense of your system. There are many python libraries you can use to analyse simulations in a very straightforward way. Here, we will use [mdtraj](http://mdtraj.org/) to show a couple plots from our short example simulation.\n",
    "\n",
    "We import mdtraj, matplotlib and numpy:"
   ]
  },
  {
   "cell_type": "code",
   "execution_count": 10,
   "metadata": {},
   "outputs": [],
   "source": [
    "import mdtraj as md\n",
    "import matplotlib.pyplot as plt\n",
    "import numpy as np"
   ]
  },
  {
   "cell_type": "code",
   "execution_count": 11,
   "metadata": {},
   "outputs": [],
   "source": [
    "energy_file = 'energy.data'\n",
    "trajectory_file = 'traj.dcd'"
   ]
  },
  {
   "cell_type": "markdown",
   "metadata": {},
   "source": [
    "First, we will plot the total potential energy to visualise the energetical progression of our system:"
   ]
  },
  {
   "cell_type": "code",
   "execution_count": 12,
   "metadata": {},
   "outputs": [
    {
     "name": "stdout",
     "output_type": "stream",
     "text": [
      "Average : -75.2978 kj/mol\n",
      "Standard deviation : 9.6701 kj/mol\n"
     ]
    },
    {
     "data": {
      "image/png": "[encoded data removed]",
      "text/plain": [
       "<Figure size 432x288 with 1 Axes>"
      ]
     },
     "metadata": {
      "needs_background": "light"
     },
     "output_type": "display_data"
    }
   ],
   "source": [
    "#Create a list to store the energy values\n",
    "potentialEnergy = []\n",
    "#Read the energy files and save the lines into a variable\n",
    "with open(energy_file) as ef:\n",
    "    lines = ef.readlines()\n",
    "    #Read the header from the second comma separated value of the first line\n",
    "    header = lines[0].split(',')[1]\n",
    "    #Iterate over all but the first line to extract the potential energy values\n",
    "    for line in lines[1:]:\n",
    "        potentialEnergy.append(float(line.split(',')[1]))\n",
    "        \n",
    "#Plot the potential energy\n",
    "plt.plot(potentialEnergy)\n",
    "plt.xlabel('Steps/100')\n",
    "plt.ylabel(header)\n",
    "plt.axhline(np.average(potentialEnergy), c='k', ls='--')\n",
    "print('Average : %.4f kj/mol' % np.average(potentialEnergy))\n",
    "print('Standard deviation : %.4f kj/mol' % np.std(potentialEnergy))"
   ]
  },
  {
   "cell_type": "markdown",
   "metadata": {},
   "source": [
    "We see that at 100 RTU the potential energy rises quickly until reaching an approximate average of -72 kj/mol and stays stable around that average with a standard deviation of approximately 10 kj/mol."
   ]
  },
  {
   "cell_type": "markdown",
   "metadata": {},
   "source": [
    "Next, we will plot the root mean squared (RMSD) deviation of the simulation with reference to the input structure. For this we will need a PDB that only contains the atoms in the simulated system. The sbmOpenMM library has a method for writing a pdb file containing just that:"
   ]
  },
  {
   "cell_type": "code",
   "execution_count": 13,
   "metadata": {},
   "outputs": [],
   "source": [
    "sbmCAModel.dumpStructure('input.pdb')"
   ]
  },
  {
   "cell_type": "markdown",
   "metadata": {},
   "source": [
    "Using mdtraj we now load the input configuration together with the trajectory, we calculate the RMSD and we plot it with matplotlib."
   ]
  },
  {
   "cell_type": "code",
   "execution_count": 14,
   "metadata": {},
   "outputs": [
    {
     "data": {
      "text/plain": [
       "Text(0, 0.5, 'RMSD [$\\\\AA$]')"
      ]
     },
     "execution_count": 14,
     "metadata": {},
     "output_type": "execute_result"
    },
    {
     "data": {
      "image/png": "[encoded data removed]",
      "text/plain": [
       "<Figure size 432x288 with 1 Axes>"
      ]
     },
     "metadata": {
      "needs_background": "light"
     },
     "output_type": "display_data"
    }
   ],
   "source": [
    "#Load input.pdb as the reference structure\n",
    "reference = md.load('input.pdb')\n",
    "#Load input.pdb as the toplogy and traj.dcd as the trajectory file\n",
    "trajectory = md.load('traj.dcd', top='input.pdb')\n",
    "#Calculate the rmsd\n",
    "rmsd = md.rmsd(trajectory, reference)*10 #Convert from nm to angstroms\n",
    "#Plot the RMSD\n",
    "plt.plot(rmsd)\n",
    "plt.xlabel('Steps/100')\n",
    "plt.ylabel('RMSD [$\\AA$]')"
   ]
  },
  {
   "cell_type": "markdown",
   "metadata": {},
   "source": [
    "We notice that the simulation is stable and that the system maintains its initial configuration, as it would be expected being the global energy minimum conformation by definition."
   ]
  },
  {
   "cell_type": "markdown",
   "metadata": {},
   "source": [
    "### Summary\n",
    "\n",
    "We have used sbmOpenMM library to generate a simulation with the default SBM CA model. The library took only two inputs to generate the simulation, a pdb file and a contact file created externally. Only one line was necessary to create the forcefield and system information, everything else is mainly the standard simulation routine with OpenMM. A special reporter class exists inside sbmOpenMM which facilitates the printing of the forcefield energies into an output file. Analysis of the simulation data is usually made post production and can be facilitated by using external python libraries. "
   ]
  }
 ],
 "metadata": {
  "kernelspec": {
   "display_name": "Python 3",
   "language": "python",
   "name": "python3"
  },
  "language_info": {
   "codemirror_mode": {
    "name": "ipython",
    "version": 3
   },
   "file_extension": ".py",
   "mimetype": "text/x-python",
   "name": "python",
   "nbconvert_exporter": "python",
   "pygments_lexer": "ipython3",
   "version": "3.6.9"
  }
 },
 "nbformat": 4,
 "nbformat_minor": 2
}
