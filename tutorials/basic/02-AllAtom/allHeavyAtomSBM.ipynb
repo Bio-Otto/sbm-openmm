{
 "cells": [
  {
   "cell_type": "markdown",
   "metadata": {},
   "source": [
    "### Introduction\n",
    "\n",
    "Previously we learn how to run a simulation using the Alpha-Carbon (CA) coarse grained model. Now we use a more detailed model which includes all the heavy atoms in the protein. The procedure is exactly the same, the only variation is probably that the simulations take more time to run because of the larger number of atoms and interactions."
   ]
  },
  {
   "cell_type": "markdown",
   "metadata": {},
   "source": [
    "### Requirements \n",
    "\n",
    "- [OpenMM python API](http://openmm.org/)\n",
    "- [bmOpenMM library](https://bitbucket.org/compbiochbiophlab/sbm-openmm/src)\n",
    "- [MDTraj library](http://mdtraj.org/)\n",
    "- [Numpy](https://numpy.org/)\n",
    "- [Matplotlib](https://matplotlib.org/)"
   ]
  },
  {
   "cell_type": "markdown",
   "metadata": {},
   "source": [
    "### All-Heavy Atom SBM simulations - The All-Atom (AA) model\n",
    "\n",
    "The AA model uses harmonic forces to maintain bonds and angles, similarly to the CA model, but additionally to keep improper and planar torsions. Impropers and planars are included because the residues are represented with all the backbone and side chain atoms and there is need to keep the local molecular geometry for specific atom hybridisations (remember also that the models do not use hydrogen atoms explicitly and chiral inversions are now possible). Proper torsions are kept by using a periodic torsion potential (same as in the CA model). Native contacts interact through a cannonical 12-6 Lennard-Jones (LJ) potential and excluded volume is enforced with a repulsive-only 12-exponent LJ.\n",
    "\n",
    "In the sbmOpenMM.models class we can load the AA model using as input a PDB file and a contact file. The PDB file must contain the structure of the system we wish to simulate, always considering that the different chains of the proteins are continuous (i.e. not missing internal residues) and do not contain ligands or solvent molecules (just the protein atoms with or without hydrogens). The contact file contains the indexes of the atoms forming the native interactions, which are present in the native target configuration.\n",
    "\n",
    "Let's first import OpenMM and sbmOpenMM libraries:"
   ]
  },
  {
   "cell_type": "code",
   "execution_count": 1,
   "metadata": {},
   "outputs": [],
   "source": [
    "#Import OpenMM library\n",
    "from simtk.openmm.app import *\n",
    "from simtk.openmm import *\n",
    "from simtk.unit import *\n",
    "\n",
    "#Import sbmOpenMM library\n",
    "import sbmOpenMM"
   ]
  },
  {
   "cell_type": "markdown",
   "metadata": {},
   "source": [
    "The PDB and contact file are provided in the input folder of this tutorial."
   ]
  },
  {
   "cell_type": "code",
   "execution_count": 2,
   "metadata": {},
   "outputs": [],
   "source": [
    "#Set the input locations as variables.\n",
    "pdb_file = 'inputs/1YPA_I.pdb'\n",
    "contact_file = 'inputs/1YPA_I_AA.contacts'"
   ]
  },
  {
   "cell_type": "markdown",
   "metadata": {},
   "source": [
    "We load these two files using the method sbmOpenMM.models.getAllAtomModel() to generate all we need to simulate the system using the AA model:"
   ]
  },
  {
   "cell_type": "code",
   "execution_count": 3,
   "metadata": {
    "scrolled": true
   },
   "outputs": [
    {
     "name": "stdout",
     "output_type": "stream",
     "text": [
      "Generating AA SBM for structure file inputs/1YPA_I.pdb\n",
      "\n",
      "Setting up geometrical parameters:\n",
      "_________________________________\n",
      "Removing hydrogens from topology\n",
      "Added 504 atoms\n",
      "Added 511 bonds\n",
      "Added 693 angles\n",
      "Added 606 torsions\n",
      "Added 118 impropers\n",
      "Added 210 planars\n",
      "Reading contacts from contact file: inputs/1YPA_I_AA.contacts\n",
      "Added 592 native contacts\n",
      "\n",
      "Setting up default forcefield parameters:\n",
      "________________________________________\n",
      "Adding default bond parameters:\n",
      "Adding default angle parameters:\n",
      "grouping torsions in backbone and side-chain groups:\n",
      "Adding default torsion parameters:\n",
      "Adding default improper parameters:\n",
      "Adding default planar parameters:\n",
      "Adding default contact parameters:\n",
      "Adding default excluded volume parameters:\n",
      "\n",
      "Adding Forces:\n",
      "_____________\n",
      "Adding Harmonic Bond Forces\n",
      "Adding Harmonic Angle Forces\n",
      "Adding Periodic Torsion Forces\n",
      "Adding Harmonic Improper Forces\n",
      "Adding Periodic Planar Forces\n",
      "Adding Lennard Jones 12-6 Forces to native contacts\n",
      "Adding Lennard Jones 12 non-bonded Forces\n",
      "\n",
      "Creating System Object:\n",
      "______________________\n",
      "\n",
      "The Potential Energy of the system is : -333.06048583984375 kJ/mol\n",
      "The Harmonic Bond Energy is: 5.978273431850312e-09 kj/mol\n",
      "The Harmonic Angle Energy is: 8.573692866775673e-09 kj/mol\n",
      "The Periodic Torsion Energy is: 2.2468996121460805e-06 kj/mol\n",
      "The Harmonic Improper Energy is: 5.299195526831113e-10 kj/mol\n",
      "The Harmonic Planar Energy is: 1.3024573641828852e-09 kj/mol\n",
      "The LJ 12-6 Contact Energy is: -336.0 kj/mol\n",
      "The LJ 12 Repulsion Energy is: 2.939548969268799 kj/mol\n",
      "\n"
     ]
    }
   ],
   "source": [
    "#Create an sbmOpenMM system object and store it in \"sbmAAModelModel\" \n",
    "sbmAAModel = sbmOpenMM.models.getAllAtomModel(pdb_file, contact_file)"
   ]
  },
  {
   "cell_type": "markdown",
   "metadata": {},
   "source": [
    "The method first gathers all geometrical values for bonds, angles, torsions, impropers and planars. Then, it reads the contact file to add the native contact information. To set up the default forcefield parameters it must follow certain rules, specially, for assigning energies to each torsion and native contacts. In the default implementation the torsions are grouped by middle bonds and into backbone and sidechain torsions. The energies are then assigned based on a energy partition scheme that mantains a specific ratio between the total native contact energy and the total torsional energy (for more details see.). After assigning the forcefield paramaters the force object are created and added to the OpenMM system object, analogously to the creation of the CA model. "
   ]
  },
  {
   "cell_type": "markdown",
   "metadata": {},
   "source": [
    "Now we follow the OpenMM procedure to simulate our system for 1 ns. Notice that the timestep has increased now to 2 fs. "
   ]
  },
  {
   "cell_type": "code",
   "execution_count": 4,
   "metadata": {},
   "outputs": [],
   "source": [
    "import time"
   ]
  },
  {
   "cell_type": "code",
   "execution_count": 5,
   "metadata": {},
   "outputs": [
    {
     "name": "stdout",
     "output_type": "stream",
     "text": [
      "Simulation started\n",
      "--- Finished in 35.93524956703186 seconds ---\n"
     ]
    }
   ],
   "source": [
    "#Define integrator and context for the simulation\n",
    "integrator = LangevinIntegrator(100, 1/picosecond, 2*femtoseconds)\n",
    "simulation = Simulation(sbmAAModel.topology, sbmAAModel.system, integrator)\n",
    "\n",
    "#Set initial positions\n",
    "simulation.context.setPositions(sbmAAModel.positions)\n",
    "\n",
    "#Add a DCD reporter that writes coordinates every 100 steps.\n",
    "simulation.reporters.append(DCDReporter('traj.dcd', 100))\n",
    "\n",
    "#Add a SBM reporter that writes energies every 100 steps.\n",
    "simulation.reporters.append(sbmOpenMM.sbmReporter('energy.data', 100, sbmObject=sbmAAModel,\n",
    "                                                  step=True, potentialEnergy=True, temperature=True))\n",
    "\n",
    "print('Simulation started')\n",
    "start_time = time.time()\n",
    "for i in range(5000):\n",
    "    simulation.step(100)\n",
    "print(\"--- Finished in %s seconds ---\" % ((time.time() - start_time)))"
   ]
  },
  {
   "cell_type": "markdown",
   "metadata": {},
   "source": [
    "The simulation took 47 seconds to complete using a laptop computer with a GeForce GTX 1050 Mobile GPU. Notice that this is shorter than the alpha-carbon simulation (which took approximately a minute), because of a wider use of the GPU's processors (more atoms than the CA model means that it got closer to using the whole GPU's capacity) and the larger timestep (2.0 fs vs 0.5 fs). \n",
    "\n",
    "We can now plot the energy progress of the simulation. For this we import matplotlib and numpy."
   ]
  },
  {
   "cell_type": "code",
   "execution_count": 6,
   "metadata": {},
   "outputs": [],
   "source": [
    "import matplotlib.pyplot as plt\n",
    "import numpy as np"
   ]
  },
  {
   "cell_type": "code",
   "execution_count": 7,
   "metadata": {},
   "outputs": [],
   "source": [
    "energy_file = 'energy.data'"
   ]
  },
  {
   "cell_type": "code",
   "execution_count": 8,
   "metadata": {},
   "outputs": [
    {
     "name": "stdout",
     "output_type": "stream",
     "text": [
      "Average : 412.1616 kj/mol\n",
      "Standard deviation : 32.4594 kj/mol\n"
     ]
    },
    {
     "data": {
      "image/png": "[encoded data removed]",
      "text/plain": [
       "<Figure size 432x288 with 1 Axes>"
      ]
     },
     "metadata": {
      "needs_background": "light"
     },
     "output_type": "display_data"
    }
   ],
   "source": [
    "#Create a list to store the energy values\n",
    "potentialEnergy = []\n",
    "#Read the energy files and save the lines into a variable\n",
    "with open(energy_file) as ef:\n",
    "    lines = ef.readlines()\n",
    "    #Read the header from the second comma separated value of the first line\n",
    "    header = lines[0].split(',')[1]\n",
    "    #Iterate over all but the first line to extract the potential energy values\n",
    "    for line in lines[1:]:\n",
    "        potentialEnergy.append(float(line.split(',')[1]))\n",
    "        \n",
    "#Plot the potential energy\n",
    "plt.plot(potentialEnergy)\n",
    "plt.xlabel('Steps/100')\n",
    "plt.ylabel(header)\n",
    "plt.axhline(np.average(potentialEnergy), c='k', ls='--')\n",
    "print('Average : %.4f kj/mol' % np.average(potentialEnergy))\n",
    "print('Standard deviation : %.4f kj/mol' % np.std(potentialEnergy))"
   ]
  },
  {
   "cell_type": "markdown",
   "metadata": {},
   "source": [
    "The system's energy gets stable at the begining of the simulation and remains like that for the remaining of the simulation time. We plot now the system's RMSD regarding the input structure:"
   ]
  },
  {
   "cell_type": "code",
   "execution_count": 9,
   "metadata": {},
   "outputs": [],
   "source": [
    "import mdtraj as md"
   ]
  },
  {
   "cell_type": "code",
   "execution_count": 10,
   "metadata": {},
   "outputs": [
    {
     "name": "stdout",
     "output_type": "stream",
     "text": [
      "Average : 2.1582 kj/mol\n",
      "Standard deviation : 0.2998 kj/mol\n"
     ]
    },
    {
     "data": {
      "image/png": "[encoded data removed]",
      "text/plain": [
       "<Figure size 432x288 with 1 Axes>"
      ]
     },
     "metadata": {
      "needs_background": "light"
     },
     "output_type": "display_data"
    }
   ],
   "source": [
    "#We dump the current system pdb\n",
    "sbmAAModel.dumpStructure('input.pdb')\n",
    "\n",
    "#Load input.pdb as the reference structure\n",
    "reference = md.load('input.pdb')\n",
    "\n",
    "#Load input.pdb as the toplogy and traj.dcd as the trajectory file\n",
    "trajectory = md.load('traj.dcd', top='input.pdb')\n",
    "\n",
    "#Calculate the rmsd\n",
    "rmsd = md.rmsd(trajectory, reference)*10 #Convert from nm to angstroms\n",
    "\n",
    "#Plot the RMSD\n",
    "plt.plot(rmsd)\n",
    "plt.xlabel('Steps/100')\n",
    "plt.ylabel('RMSD [$\\AA$]')\n",
    "plt.axhline(np.average(rmsd), c='k', ls='--')\n",
    "print('Average : %.4f kj/mol' % np.average(rmsd))\n",
    "print('Standard deviation : %.4f kj/mol' % np.std(rmsd))"
   ]
  },
  {
   "cell_type": "markdown",
   "metadata": {},
   "source": [
    "The simulation oscillates at 2.2 angstroms RMSD of the input structure with a very small standard deviation."
   ]
  },
  {
   "cell_type": "markdown",
   "metadata": {},
   "source": [
    "### Summary\n",
    "\n",
    "We have used sbmOpenMM library to generate a simulation with the default SBM All-Atom model. The library takes two inputs to set up the SBM system, a pdb file and a contact file created externally. Only one line is necessary to create the forcefield and system information, everything else is mainly the standard simulation routine with OpenMM. A special reporter class exists inside sbmOpenMM which facilitates the printing of the forcefield energies into an output file. Analysis of the simulation data is usually made post production and can be facilitated by using external python libraries. "
   ]
  }
 ],
 "metadata": {
  "kernelspec": {
   "display_name": "Python 3",
   "language": "python",
   "name": "python3"
  },
  "language_info": {
   "codemirror_mode": {
    "name": "ipython",
    "version": 3
   },
   "file_extension": ".py",
   "mimetype": "text/x-python",
   "name": "python",
   "nbconvert_exporter": "python",
   "pygments_lexer": "ipython3",
   "version": "3.6.9"
  }
 },
 "nbformat": 4,
 "nbformat_minor": 2
}
