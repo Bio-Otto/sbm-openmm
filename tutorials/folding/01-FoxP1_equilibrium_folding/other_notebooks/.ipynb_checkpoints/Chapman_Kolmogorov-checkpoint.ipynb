{
 "cells": [
  {
   "cell_type": "markdown",
   "metadata": {},
   "source": [
    "This notebook should be run separately in order to ensure eficient memory usage. \\\n",
    "The result can then be imported to other notebook for visualization purpose"
   ]
  },
  {
   "cell_type": "code",
   "execution_count": 1,
   "metadata": {},
   "outputs": [],
   "source": [
    "# Import SBMOpenMM library\n",
    "import sbmOpenMM\n",
    "\n",
    "# Import PyEMMA library\n",
    "import pyemma.util.contexts\n",
    "\n",
    "# Import ploting tools\n",
    "%matplotlib inline\n",
    "import matplotlib.pyplot as plt\n",
    "\n",
    "# Import numpy \n",
    "import numpy as np\n",
    "\n",
    "# Import system library\n",
    "import os"
   ]
  },
  {
   "cell_type": "markdown",
   "metadata": {},
   "source": [
    "### Get trajectories"
   ]
  },
  {
   "cell_type": "code",
   "execution_count": 2,
   "metadata": {},
   "outputs": [
    {
     "name": "stdout",
     "output_type": "stream",
     "text": [
      "['/home/martin/Projects/FoxP/AA/FoldingSimulation_Tf/kx/01/01_trajectory.dcd', '/home/martin/Projects/FoxP/AA/FoldingSimulation_Tf/kx/02/02_trajectory.dcd', '/home/martin/Projects/FoxP/AA/FoldingSimulation_Tf/kx/03/03_trajectory.dcd', '/home/martin/Projects/FoxP/AA/FoldingSimulation_Tf/kx/04/04_trajectory.dcd', '/home/martin/Projects/FoxP/AA/FoldingSimulation_Tf/kx/05/05_trajectory.dcd', '/home/martin/Projects/FoxP/AA/FoldingSimulation_Tf/kx/06/06_trajectory.dcd', '/home/martin/Projects/FoxP/AA/FoldingSimulation_Tf/kx/07/07_trajectory.dcd', '/home/martin/Projects/FoxP/AA/FoldingSimulation_Tf/kx/08/08_trajectory.dcd', '/home/martin/Projects/FoxP/AA/FoldingSimulation_Tf/kx/09/09_trajectory.dcd', '/home/martin/Projects/FoxP/AA/FoldingSimulation_Tf/kx/10/10_trajectory.dcd', '/home/martin/Projects/FoxP/AA/FoldingSimulation_Tf/kx/11/11_trajectory.dcd', '/home/martin/Projects/FoxP/AA/FoldingSimulation_Tf/kx/12/12_trajectory.dcd', '/home/martin/Projects/FoxP/AA/FoldingSimulation_Tf/kx/13/13_trajectory.dcd', '/home/martin/Projects/FoxP/AA/FoldingSimulation_Tf/kx/14/14_trajectory.dcd', '/home/martin/Projects/FoxP/AA/FoldingSimulation_Tf/kx/15/15_trajectory.dcd']\n"
     ]
    }
   ],
   "source": [
    "# Store aligned trajectory files\n",
    "folder = '/home/martin/Projects/FoxP/AA/FoldingSimulation_Tf/kx/'\n",
    "trajectory_files = []\n",
    "for d in sorted(os.listdir(folder)):\n",
    "    if os.path.isdir(folder+d):\n",
    "        for f in sorted(os.listdir(folder+d)):\n",
    "            if f.endswith('.dcd'):\n",
    "                trajectory_files.append(folder+d+'/'+f)\n",
    "print(trajectory_files)"
   ]
  },
  {
   "cell_type": "markdown",
   "metadata": {},
   "source": [
    "### Calculate Native contacts"
   ]
  },
  {
   "cell_type": "code",
   "execution_count": 3,
   "metadata": {},
   "outputs": [
    {
     "name": "stdout",
     "output_type": "stream",
     "text": [
      "Generating AA SBM for structure file ../input/FoxP_monomer.pdb\n",
      "\n",
      "Setting up geometrical parameters:\n",
      "_________________________________\n",
      "Removing hydrogens from topology\n",
      "Added 747 atoms\n",
      "Added 767 bonds\n",
      "Added 1038 angles\n",
      "Added 855 torsions\n",
      "Added 166 impropers\n",
      "Added 357 planars\n",
      "Reading contacts from contact file: ../input/FoxP_monomer.contacts\n",
      "Added 822 native contacts\n",
      "\n"
     ]
    }
   ],
   "source": [
    "# Define an SBMOpenMM All-Atom SBM without parameters, forces, and system attributes.\n",
    "structure_file = '../input/FoxP_monomer.pdb'\n",
    "contact_file = '../input/FoxP_monomer.contacts'\n",
    "AA_sbmModel = sbmOpenMM.models.getAllAtomModel(structure_file, contact_file, default_parameters=False)"
   ]
  },
  {
   "cell_type": "code",
   "execution_count": 4,
   "metadata": {},
   "outputs": [],
   "source": [
    "def getCAcontacts(AA_sbmModel, residue_index=False):\n",
    "    \"\"\"\n",
    "    Get per-residue native contacts. This function reads an AA SBM class\n",
    "    and returns the per-residue native contacts based on the indexes of the\n",
    "    alpha-carbon atoms in the system. If option residue_index is given then\n",
    "    the function returns the residue indexes instead of the alpha-carbon atoms'\n",
    "    indexes.\n",
    "    \"\"\"\n",
    "    \n",
    "    # Create a set with residue contacts only\n",
    "    residue_contacts = set()\n",
    "    for c in AA_sbmModel.contacts:\n",
    "        residue_contacts.add((c[0].residue.index, c[1].residue.index))\n",
    "        \n",
    "    # Create a map from residue index to CA atom index\n",
    "    # or residue index\n",
    "    CA_atom = {}\n",
    "    for a in AA_sbmModel.atoms:\n",
    "        if a.name == 'CA':\n",
    "            if residue_index:\n",
    "                CA_atom[a.residue.index] = a.residue.index+1\n",
    "            else:\n",
    "                CA_atom[a.residue.index] = a.index+1\n",
    "            \n",
    "    # Define per-residue native contacts based on CA indexes.\n",
    "    ca_contacts = []\n",
    "    \n",
    "    for c in sorted(residue_contacts):\n",
    "        ca_contacts.append((CA_atom[c[0]], CA_atom[c[1]]))\n",
    "        \n",
    "    return np.array(ca_contacts)"
   ]
  },
  {
   "cell_type": "code",
   "execution_count": 5,
   "metadata": {},
   "outputs": [],
   "source": [
    "# Get list of per-residue native contacts based on the SBM alpha-carbons indexes.\n",
    "ca_native_contacts = getCAcontacts(AA_sbmModel)"
   ]
  },
  {
   "cell_type": "markdown",
   "metadata": {},
   "source": [
    "### Featurization"
   ]
  },
  {
   "cell_type": "code",
   "execution_count": null,
   "metadata": {},
   "outputs": [
    {
     "data": {
      "application/vnd.jupyter.widget-view+json": {
       "model_id": "",
       "version_major": 2,
       "version_minor": 0
      },
      "text/plain": [
       "HBox(children=(FloatProgress(value=0.0, description='Obtaining file info', layout=Layout(flex='2'), max=15.0, …"
      ]
     },
     "metadata": {},
     "output_type": "display_data"
    },
    {
     "data": {
      "application/vnd.jupyter.widget-view+json": {
       "model_id": "e148a9643cc84678a163dafaa51b4635",
       "version_major": 2,
       "version_minor": 0
      },
      "text/plain": [
       "HBox(children=(FloatProgress(value=0.0, description='getting output of FeatureReader', layout=Layout(flex='2')…"
      ]
     },
     "metadata": {},
     "output_type": "display_data"
    }
   ],
   "source": [
    "# Define CA atom native distances as the feature\n",
    "ca_native_contacts_feat = pyemma.coordinates.featurizer(structure_file)\n",
    "ca_native_contacts_feat.add_distances(ca_native_contacts, periodic=False)\n",
    "ca_native_contacts_data = pyemma.coordinates.load(trajectory_files, features=ca_native_contacts_feat)"
   ]
  },
  {
   "cell_type": "markdown",
   "metadata": {},
   "source": [
    "### Select lag time and calculate TICAs"
   ]
  },
  {
   "cell_type": "code",
   "execution_count": null,
   "metadata": {},
   "outputs": [],
   "source": [
    "# Define a lag time for TICA calculation\n",
    "lag_time = 33\n",
    "tica = pyemma.coordinates.tica(ca_native_contacts_data, lag=lag_time)\n",
    "tica_output = tica.get_output()"
   ]
  },
  {
   "cell_type": "markdown",
   "metadata": {},
   "source": [
    "### Calculate clusters for MSM "
   ]
  },
  {
   "cell_type": "code",
   "execution_count": null,
   "metadata": {},
   "outputs": [],
   "source": [
    "# Select the number of clusters to build the MSM\n",
    "n_clusters = 1000\n",
    "# Calculate cluster in TICA space using the k-means algorithm\n",
    "cluster = pyemma.coordinates.cluster_kmeans(tica_output, k=n_clusters, max_iter=100, stride=10)"
   ]
  },
  {
   "cell_type": "markdown",
   "metadata": {},
   "source": [
    "### Chapman - Kolmogorov (CK) test"
   ]
  },
  {
   "cell_type": "code",
   "execution_count": null,
   "metadata": {},
   "outputs": [],
   "source": [
    "# Calculate Bayesian MSM\n",
    "msm = pyemma.msm.bayesian_markov_model(cluster.dtrajs, lag=lag_time, dt_traj='20 ps')"
   ]
  },
  {
   "cell_type": "code",
   "execution_count": null,
   "metadata": {},
   "outputs": [],
   "source": [
    "# Define the number of states for the CK test\n",
    "nstates = 2\n",
    "# Run CK test\n",
    "cktest = msm.cktest(nstates)"
   ]
  },
  {
   "cell_type": "code",
   "execution_count": null,
   "metadata": {},
   "outputs": [],
   "source": [
    "pyemma.plots.plot_cktest(cktest, dt=0.02, units='ns')\n",
    "plt.savefig('output/ck_test.png')"
   ]
  }
 ],
 "metadata": {
  "kernelspec": {
   "display_name": "Python 3",
   "language": "python",
   "name": "python3"
  },
  "language_info": {
   "codemirror_mode": {
    "name": "ipython",
    "version": 3
   },
   "file_extension": ".py",
   "mimetype": "text/x-python",
   "name": "python",
   "nbconvert_exporter": "python",
   "pygments_lexer": "ipython3",
   "version": "3.7.8"
  }
 },
 "nbformat": 4,
 "nbformat_minor": 4
}
