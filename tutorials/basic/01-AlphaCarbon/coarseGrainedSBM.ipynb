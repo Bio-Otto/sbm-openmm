{
 "cells": [
  {
   "cell_type": "markdown",
   "metadata": {},
   "source": [
    "### Introduction\n",
    "\n",
    "sbmOpenMM is a python library which facilitates setting up simulations of structure based models (SBMs) for protein systems, using the molecular dynamics (MD) framework of OpenMM. Essentially, the library reads a PDB file and creates a force field in which the input structure is defined as the global energy minimum in the potential energy function. These kind of force fields are referred to as topology-based, because, the interactions in it do not depend on the details of the chemical composition of the system, but only on the structures’ connectivities and geometries.\n",
    "\n",
    "Creating a simulation is as simple as importing the library and calling the SBM model to be used to represent the system. Two model flavors can be selected depending on the atomic details you want to employ. One of the faster and optimal method is a coarse-grained representation of the residues in the protein, in which each residue is replaced by one bead centered in its alpha-carbon atom. The model is referred as the CA model and the details of the force field can be read [elsewhere](). Here we review how to set up a simple simulation using the CA model, we review in a different [section](https://mon.uvic.cat/cbbl/research/software/sbmopenmm/tutorials/02-coarse-grained-sbm-simulations/) how to set up an all-atom simulation."
   ]
  },
  {
   "cell_type": "markdown",
   "metadata": {},
   "source": [
    "### Requirements \n",
    "\n",
    "- [OpenMM python API](http://openmm.org/)\n",
    "- [sbmOpenMM library](https://github.com/CompBiochBiophLab/sbm-openmm)\n",
    "- [MDTraj library](http://mdtraj.org/)\n",
    "- [Numpy](https://numpy.org/)\n",
    "- [Matplotlib](https://matplotlib.org/)"
   ]
  },
  {
   "cell_type": "markdown",
   "metadata": {},
   "source": [
    "### Coarse grained SBM simulations - The alpha-carbon (CA) model\n",
    "\n",
    "Briefly, in the CA model, all the alpha-carbon beads in one chain are bonded together by an harmonic potential, using the input structural distances (i.e bond lengths) as the equilibrium distances. The same idea is applied to keep the beads' angles. The torsional dihedral angles between the beads are also biased to adopt the configuration in the input structure, but through the use of a periodic torsion potential. The non-bonded interactions are modeled with special Lennard-Jones (LJ) potentials. On one hand, the native contacts defined for the target structure are maintained through a 12-10 LJ potential, which, in contrast to a typical (12-6) LJ, helps to limit interactions between the beads that would occur at very long distances. Finally, all non-native interactions (i.e. any interaction between the beads that is not a native contact nor a bonded one), are kept only as excluded volume interactions to avoid the self-crossing of the polypetide chains. This is accomplished by using only the repulsive term (12 exponent) of the the LJ potential.\n",
    "\n",
    "The sbmOpenMM library contains a model class in which default force fields can be loaded easily. But, in order to load any model from it, we first need 2 input files:\n",
    "\n",
    "1) An input PDB: The PDB file must contain the structure of the protein system to simulate, always considering that the different chains of the proteins are continuous (i.e. not missing internal residues) and do not contain ligands or solvent molecules (just the protein atoms).\n",
    "\n",
    "2) A contact file: The file contains the pair of indexes of the atoms forming native interactions, which are present in the target (native) configuration.\n",
    "\n",
    "Having the files available and in order to use the CA model for our protein system, we need first to import the sbmOpenMM library together with the [OpenMM python API](http://docs.openmm.org/development/api-python/index.html)"
   ]
  },
  {
   "cell_type": "code",
   "execution_count": 1,
   "metadata": {},
   "outputs": [],
   "source": [
    "#Import OpenMM library\n",
    "from simtk.openmm.app import *\n",
    "from simtk.openmm import *\n",
    "from simtk.unit import *\n",
    "\n",
    "#Import sbmOpenMM library\n",
    "import sbmOpenMM"
   ]
  },
  {
   "cell_type": "markdown",
   "metadata": {},
   "source": [
    "In this tutorial we will use a PDB and contact file provided in the input folder of this tutorial. The protein file was modified from the [1YPA.pdb](https://www.rcsb.org/structure/1YPA) file and contains residues 22-84 of the subtilisin-chymotrypsin inhibitor-2A. The contact file was generated using the [SMOG2](http://smog-server.org/smog2/) program using the pdb file as input."
   ]
  },
  {
   "cell_type": "code",
   "execution_count": 2,
   "metadata": {},
   "outputs": [],
   "source": [
    "#Set the input locations as variables.\n",
    "pdb_file = 'inputs/1YPA_I.pdb'\n",
    "contact_file = 'inputs/1YPA_I_CA.contacts'"
   ]
  },
  {
   "cell_type": "markdown",
   "metadata": {},
   "source": [
    "We load this two files into the sbmOpenMM.models.getCAModel() method to instantiate the sbmOpenMM.system class with default parameters for the CA model. This oject contains all the necessary information to simulate our system with openMM.\n",
    "\n",
    "It is important to note that the contact file has atom indexes associated with a configuration containing only CA atoms. For this reason it does not match the full-atom pdb file's numbering. If the files are compatible in terms of the number of residues (i.e. CA atoms) sbmOpenMM.models.getCAModel() will preserve only the CA atoms from the input pdb file. "
   ]
  },
  {
   "cell_type": "code",
   "execution_count": 3,
   "metadata": {
    "scrolled": false
   },
   "outputs": [
    {
     "name": "stdout",
     "output_type": "stream",
     "text": [
      "Generating CA SBM for structure file inputs/1YPA_I.pdb\n",
      "\n",
      "Setting up geometrical parameters:\n",
      "_________________________________\n",
      "Keeping only alpha carbon atoms in topology\n",
      "Added 64 CA atoms\n",
      "Added 63 bonds\n",
      "Added 62 angles\n",
      "Added 61 torsions\n",
      "Reading contacts from contact file: inputs/1YPA_I_CA.contacts\n",
      "Added 164 native contacts\n",
      "\n",
      "Setting up default forcefield parameters:\n",
      "________________________________________\n",
      "Adding default bond parameters:\n",
      "Adding default angle parameters:\n",
      "Adding default torsion parameters:\n",
      "Adding default contact parameters:\n",
      "Adding default excluded volume parameters:\n",
      "\n",
      "Adding Forces:\n",
      "_____________\n",
      "Added Harmonic Bond Forces\n",
      "Added Harmonic Angle Forces\n",
      "Added Periodic Torsion Forces\n",
      "Added Lennard Jones 12-10 Forces to native contacts\n",
      "Added Lennard Jones 12 non-bonded Forces\n",
      "\n",
      "Creating System Object:\n",
      "______________________\n",
      "The Potential Energy of the system is : -163.62130737304688 kJ/mol\n",
      "The Harmonic Bond Energy is: 1.4299672557172016e-09 kj/mol\n",
      "The Harmonic Angle Energy is: 3.439026841078885e-11 kj/mol\n",
      "The Periodic Torsion Energy is: 1.4901161193847656e-07 kj/mol\n",
      "The LJ 12-10 Contact Energy is: -164.0 kj/mol\n",
      "The LJ 12 Repulsion Energy is: 0.3786963224411011 kj/mol\n",
      "\n",
      "OpenMM system Object created\n",
      "\n"
     ]
    }
   ],
   "source": [
    "#Create an sbmOpenMM.system() object and store it in \"sbmCAModelModel\" variable. \n",
    "sbmCAModel = sbmOpenMM.models.getCAModel(pdb_file, contact_file)"
   ]
  },
  {
   "cell_type": "markdown",
   "metadata": {},
   "source": [
    "We can use the output to follow the steps that were executed to create the sbmOpenMM system object. First, the input pdb is read and an OpenMM topology object is created from it. After this, only alpha-carbon atoms are kept and all their bonds, angles and torsions values are caculated and stored. The contact file is also read and the pairs defined inside are added as native contacts. Then, the method adds the default parameters and forces for the specified model (CA in this case) and, finally, it creates an openmm.system object. All the parameters created are stored inside the attributes of the sbmOpenMM.system() object (sbmCAModel in our case). \n",
    "\n",
    "In the last printed output we can see the potential energy details of the input configuration given the newly created SBM force field. Note that most of the energy terms in the force field are zero, except for the non-bonded terms. The LJ 12-10 term is negative, because it reflects the favorable native contact interactions. On the other hand, the LJ 12 term is positive because it represents the repulsion force accounting for the excuded volume of the beads. Remember that in this model all the beads radii are equal and arbitrarily selected (for more details see).  "
   ]
  },
  {
   "cell_type": "markdown",
   "metadata": {},
   "source": [
    "Now that we have succesfully created our SBM model we can simulate it using OpenMM. For this we are going to employ a [Langevin Integrator](http://docs.openmm.org/development/api-python/generated/simtk.openmm.openmm.LangevinIntegrator.html) with a friction coefficient of 1 $ps^{−1}$, an arbitrary temperature of 100 reduced-temperature-units (RTU) and a timestep of 0.5 $fs$."
   ]
  },
  {
   "cell_type": "code",
   "execution_count": 4,
   "metadata": {},
   "outputs": [],
   "source": [
    "#Define integrator and context for the simulation\n",
    "integrator = LangevinIntegrator(100, 1/picosecond, 0.5*femtoseconds)\n",
    "simulation = Simulation(sbmCAModel.topology, sbmCAModel.system, integrator)"
   ]
  },
  {
   "cell_type": "markdown",
   "metadata": {},
   "source": [
    "We also have to create a simulation context, which is initilised with an OpenMM topology, system and integrator. The first two are stored as attributes in our \"sbmCAModel\" object. Finally, we give the initial positions of our system to this newly created OpenMM context:"
   ]
  },
  {
   "cell_type": "code",
   "execution_count": 5,
   "metadata": {},
   "outputs": [],
   "source": [
    "#Set initial positions\n",
    "simulation.context.setPositions(sbmCAModel.positions)"
   ]
  },
  {
   "cell_type": "markdown",
   "metadata": {},
   "source": [
    "Before running the simulation we would like to set up the storing of the output information into files. This makes it easier to analyse the simulations later using separate scripts. In OpenMM this is controlled passing reporters to the OpenMM simulation object. We will create at least two reporters for running the SBM simulation. \n",
    "\n",
    "First, we add a DCD reporter which allows us to write a binary trajectory file containing the coordinates of the simulation every a specified number steps."
   ]
  },
  {
   "cell_type": "code",
   "execution_count": 6,
   "metadata": {},
   "outputs": [],
   "source": [
    "#Add a DCD reporter that writes coordinates every 100 steps.\n",
    "simulation.reporters.append(DCDReporter('traj.dcd', 100))"
   ]
  },
  {
   "cell_type": "markdown",
   "metadata": {},
   "source": [
    "Then, we will add a special reporter that will allow us to easily print all the energy terms in our SBM force field into a file:"
   ]
  },
  {
   "cell_type": "code",
   "execution_count": 7,
   "metadata": {},
   "outputs": [],
   "source": [
    "#Add a SBM reporter that writes energies every 100 steps.\n",
    "simulation.reporters.append(sbmOpenMM.sbmReporter('energy.data', 100, sbmObject=sbmCAModel,\n",
    "                                                  step=True, potentialEnergy=True, temperature=True))"
   ]
  },
  {
   "cell_type": "markdown",
   "metadata": {},
   "source": [
    "Note that this reporter is a special version of the [StateDataReporter](http://docs.openmm.org/7.0.0/api-python/generated/simtk.openmm.app.statedatareporter.StateDataReporter.html) class in OpenMM, which additionally takes the SBM object as a keyword argument. When the SBM object is given, the reporter additionally prints all the energy terms of the SBM force field into the reporter file."
   ]
  },
  {
   "cell_type": "markdown",
   "metadata": {},
   "source": [
    "Optionally, we can make this reporter to print the energies as standard output for visualising it while we run the script:"
   ]
  },
  {
   "cell_type": "code",
   "execution_count": 8,
   "metadata": {},
   "outputs": [],
   "source": [
    "from sys import stdout\n",
    "# #Add a SBM reporter that prints energies every 20000 steps.\n",
    "simulation.reporters.append(sbmOpenMM.sbmReporter(stdout, 20000, sbmObject=sbmCAModel,\n",
    "                                                  step=True, potentialEnergy=True, temperature=True))"
   ]
  },
  {
   "cell_type": "markdown",
   "metadata": {},
   "source": [
    "Now we can proceed with the molecular simulation. We will run the system and follow its trajectory during 2M steps (1 ns) of MD."
   ]
  },
  {
   "cell_type": "code",
   "execution_count": 9,
   "metadata": {
    "scrolled": true
   },
   "outputs": [
    {
     "name": "stdout",
     "output_type": "stream",
     "text": [
      "Simulation started\n",
      "#\"Step\",\"Potential Energy (kJ/mole)\",\"Temperature (K)\",\"Harmonic Bond Energy (kJ/mol)\",\"Harmonic Angle Energy (kJ/mol)\",\"Periodic Torsion Energy (kJ/mol)\",\"LJ 12-10 Contact Energy (kJ/mol)\",\"LJ 12 Repulsion Energy (kJ/mol)\"\n",
      "20000,-81.02152252197266,99.0237962141791,30.440549850463867,20.684602737426758,6.872628688812256,-139.30679321289062,0.2874842882156372\n",
      "40000,-84.25835418701172,98.45316003713523,26.173118591308594,18.001733779907227,6.960570335388184,-135.62557983398438,0.23180581629276276\n",
      "60000,-69.46906280517578,98.20906783976214,19.767444610595703,15.773462295532227,12.000322341918945,-117.24110412597656,0.23081819713115692\n",
      "80000,-72.92420196533203,104.33598354395991,30.547948837280273,19.003578186035156,8.68874740600586,-131.50460815429688,0.3401391804218292\n",
      "100000,-64.15394592285156,106.31639599427503,31.34243392944336,20.930389404296875,11.407355308532715,-128.0445098876953,0.21039342880249023\n",
      "120000,-63.4041862487793,109.49121178565218,30.995895385742188,24.312137603759766,8.91898250579834,-127.99789428710938,0.3666885197162628\n",
      "140000,-77.99305725097656,119.49632435577712,22.05156898498535,21.312498092651367,6.807652473449707,-128.4505615234375,0.28578734397888184\n",
      "160000,-83.08314514160156,112.5822518592184,26.49514389038086,19.02135467529297,6.569736480712891,-135.42459106445312,0.2551969289779663\n",
      "180000,-81.33531951904297,90.98678346422643,27.559694290161133,18.385879516601562,7.288489818572998,-134.72792053222656,0.15853416919708252\n",
      "200000,-84.42564392089844,103.25269608900501,27.261444091796875,15.760613441467285,6.234391212463379,-133.96014404296875,0.2780502736568451\n",
      "220000,-69.51251220703125,97.65545281198278,31.32042694091797,23.401037216186523,6.305667400360107,-130.75559997558594,0.21595564484596252\n",
      "240000,-85.11658477783203,107.12123683009158,20.040645599365234,18.559682846069336,6.138308525085449,-130.18527221679688,0.3300555646419525\n",
      "260000,-92.56368255615234,91.75231656460234,21.55246925354004,14.51392650604248,7.680244445800781,-136.6981964111328,0.3878704607486725\n",
      "280000,-63.2899169921875,90.30225757930093,28.470483779907227,23.448078155517578,12.174959182739258,-127.67070007324219,0.2872648537158966\n",
      "300000,-78.27456665039062,93.93389969989073,22.31761932373047,22.01830291748047,6.696846961975098,-129.6132354736328,0.30590131878852844\n",
      "320000,-87.64640808105469,106.47469738088118,23.582185745239258,16.41848373413086,13.598394393920898,-141.642822265625,0.39735332131385803\n",
      "340000,-69.82290649414062,99.6245586442989,38.91563415527344,18.759565353393555,7.658714294433594,-135.5489501953125,0.3921201527118683\n",
      "360000,-55.60149383544922,108.12423556969009,33.11164474487305,17.315975189208984,12.27450180053711,-118.6032943725586,0.29967200756073\n",
      "380000,-67.5386734008789,95.3872859249579,28.55656623840332,23.650123596191406,9.753665924072266,-129.77008056640625,0.27104759216308594\n",
      "400000,-76.41619873046875,113.91940383025755,24.937963485717773,21.442211151123047,9.84238052368164,-132.97909545898438,0.34035030007362366\n",
      "420000,-78.99396514892578,84.53632755739966,26.951066970825195,16.19124984741211,12.586556434631348,-135.14895629882812,0.4261188507080078\n",
      "440000,-88.44033813476562,98.3028236346078,19.67681121826172,17.33087921142578,8.814285278320312,-134.7357635498047,0.4734504222869873\n",
      "460000,-86.03076171875,98.31999448821318,25.97612762451172,17.413888931274414,7.493424415588379,-137.2499237060547,0.3357262909412384\n",
      "480000,-78.23651123046875,100.25570892271554,24.547096252441406,19.607345581054688,7.469603538513184,-130.18948364257812,0.3289260268211365\n",
      "500000,-75.82173156738281,90.15167338705953,23.350570678710938,23.216421127319336,7.033768653869629,-129.62229919433594,0.19979892671108246\n",
      "520000,-75.51598358154297,95.133576008353,27.019229888916016,19.772565841674805,9.232990264892578,-131.78372192382812,0.242959126830101\n",
      "540000,-67.2947006225586,102.13843667349495,27.491226196289062,21.337968826293945,11.79955768585205,-128.12403869628906,0.2005857527256012\n",
      "560000,-72.9158706665039,102.97439873432617,24.195343017578125,21.781539916992188,10.394872665405273,-129.60427856445312,0.31665438413619995\n",
      "580000,-57.66371154785156,96.56717856686511,33.291709899902344,18.521936416625977,10.089302062988281,-119.9061050415039,0.3394508361816406\n",
      "600000,-87.4012222290039,121.56177390175463,16.607648849487305,17.215551376342773,10.21822738647461,-131.6287384033203,0.18607878684997559\n",
      "620000,-69.97938537597656,102.38528285247689,32.317630767822266,23.531753540039062,5.211421012878418,-131.45941162109375,0.4192158877849579\n",
      "640000,-74.2471694946289,119.76817877418193,34.13384246826172,15.034571647644043,7.545175552368164,-131.16085815429688,0.20009244978427887\n",
      "660000,-55.59709930419922,100.27262377937775,29.043142318725586,25.436199188232422,12.942747116088867,-123.40975952148438,0.39056864380836487\n",
      "680000,-64.55252075195312,94.620149140283,35.531158447265625,23.49273681640625,9.157161712646484,-133.0780029296875,0.3444235324859619\n",
      "700000,-91.61832427978516,96.92492134001752,29.622814178466797,10.25512981414795,9.50360107421875,-141.3360595703125,0.3361890912055969\n",
      "720000,-67.72269439697266,101.83410996660108,24.976776123046875,21.958860397338867,10.281942367553711,-125.15682983398438,0.21656176447868347\n",
      "740000,-88.78919219970703,108.6845220690224,23.45250701904297,16.605525970458984,9.2742280960083,-138.35667419433594,0.23522211611270905\n",
      "760000,-91.20138549804688,116.8822415794714,25.200138092041016,14.576854705810547,6.25075626373291,-137.55902099609375,0.32988882064819336\n",
      "780000,-84.60662841796875,99.12174466867147,27.26445198059082,20.954816818237305,6.815268516540527,-140.0775604248047,0.4364020824432373\n",
      "800000,-72.91667175292969,87.88982881839271,24.712032318115234,19.41065216064453,11.924944877624512,-129.38760375976562,0.4233076572418213\n",
      "820000,-68.77577209472656,102.86148761892876,36.59885787963867,16.777873992919922,12.02169418334961,-134.48915100097656,0.31496864557266235\n",
      "840000,-64.67679595947266,114.01849520865079,22.227210998535156,18.333003997802734,11.041937828063965,-116.57560729980469,0.29665428400039673\n",
      "860000,-70.62255859375,84.0747025870615,15.80088996887207,22.29226303100586,11.947722434997559,-120.94278717041016,0.2793532907962799\n",
      "880000,-63.98285675048828,84.36158628564311,25.296329498291016,20.748931884765625,15.215476036071777,-125.46025085449219,0.21666020154953003\n",
      "900000,-71.33674621582031,96.87389932274631,26.173107147216797,19.098031997680664,10.717180252075195,-127.56139373779297,0.23632827401161194\n",
      "920000,-59.913516998291016,89.20693649565739,38.525020599365234,16.740985870361328,10.583518028259277,-125.92249298095703,0.1594456285238266\n",
      "940000,-66.54855346679688,83.36401851485806,27.017086029052734,25.4969482421875,9.926420211791992,-129.22259521484375,0.23358991742134094\n",
      "960000,-79.89441680908203,103.65292295631119,29.115293502807617,19.58564567565918,8.669431686401367,-137.62777709960938,0.3629913926124573\n",
      "980000,-53.542537689208984,99.15025514071134,28.659095764160156,20.88528823852539,16.341550827026367,-119.67866516113281,0.25020191073417664\n",
      "1000000,-81.96815490722656,102.43427609029816,28.55176544189453,17.642372131347656,6.320182800292969,-134.8756561279297,0.3931821882724762\n",
      "1020000,-82.33715057373047,74.60466319339777,36.70090103149414,14.464275360107422,7.975191593170166,-141.76747131347656,0.2899525761604309\n",
      "1040000,-74.09098052978516,104.305503895226,26.462858200073242,16.35274887084961,6.9227705001831055,-124.13323211669922,0.3038793206214905\n",
      "1060000,-85.4833984375,100.85240517366117,25.652523040771484,15.678869247436523,7.0916643142700195,-134.18743896484375,0.28099268674850464\n",
      "1080000,-63.766971588134766,101.98106967888168,30.21879005432129,25.646236419677734,9.239980697631836,-129.11627197265625,0.24429428577423096\n",
      "1100000,-61.6008415222168,99.65773775327376,32.218379974365234,18.53651237487793,13.90450668334961,-126.67388916015625,0.4136483073234558\n",
      "1120000,-70.20169830322266,109.98692653370193,26.666200637817383,17.80337905883789,9.939422607421875,-124.9161605834961,0.30545684695243835\n",
      "1140000,-78.06188201904297,100.63936857847312,20.17519760131836,19.406963348388672,10.336854934692383,-128.21751403808594,0.23661434650421143\n",
      "1160000,-46.34844207763672,88.45680475557243,37.055397033691406,20.92133140563965,11.968571662902832,-116.53411865234375,0.24037672579288483\n"
     ]
    },
    {
     "name": "stdout",
     "output_type": "stream",
     "text": [
      "1180000,-72.38711547851562,75.32959971837982,23.44655418395996,25.745441436767578,9.573762893676758,-131.46844482421875,0.3155660927295685\n",
      "1200000,-81.00482177734375,88.66126834564702,23.067794799804688,15.808123588562012,10.045358657836914,-130.1959228515625,0.2698231041431427\n",
      "1220000,-67.10364532470703,89.1527992923503,31.693628311157227,19.665828704833984,8.268486022949219,-127.0118408203125,0.2802494466304779\n",
      "1240000,-66.91349029541016,112.68900369297056,28.81616973876953,19.88934326171875,8.857110977172852,-124.71743774414062,0.24132812023162842\n",
      "1260000,-66.69513702392578,95.76552542166529,28.488183975219727,22.640636444091797,10.276388168334961,-128.37435913085938,0.2740122675895691\n",
      "1280000,-94.45310974121094,94.24916203212149,22.86911392211914,10.891352653503418,7.937473297119141,-136.4817657470703,0.3307117819786072\n",
      "1300000,-58.0394172668457,99.85948673637074,26.034576416015625,22.92989158630371,14.582881927490234,-121.85205078125,0.26527708768844604\n",
      "1320000,-78.95237731933594,96.91501632517617,26.683916091918945,16.351953506469727,9.438969612121582,-131.91552734375,0.488303005695343\n",
      "1340000,-67.83094024658203,87.16975597936526,29.060588836669922,20.70648193359375,10.710622787475586,-128.49163818359375,0.18300575017929077\n",
      "1360000,-85.0517807006836,106.73542614287305,19.947338104248047,17.355205535888672,10.782039642333984,-133.39834594726562,0.26198309659957886\n",
      "1380000,-66.14524841308594,107.90326291524724,21.37275505065918,25.692100524902344,12.032390594482422,-125.47736358642578,0.23487447202205658\n",
      "1400000,-75.28925323486328,89.96570452776383,33.13064193725586,20.399852752685547,8.038568496704102,-137.27944946289062,0.4211256802082062\n",
      "1420000,-75.53736114501953,83.28134902979716,26.46500015258789,16.42136001586914,5.821717262268066,-124.52926635742188,0.2838345170021057\n",
      "1440000,-81.317626953125,104.11529193169402,28.504484176635742,18.65981674194336,6.8421735763549805,-135.54808044433594,0.223981574177742\n",
      "1460000,-67.35748291015625,103.72244653360674,24.985687255859375,19.741008758544922,12.283793449401855,-124.59780883789062,0.2298404723405838\n",
      "1480000,-91.7071762084961,96.54259118771427,19.37815284729004,11.391927719116211,8.014960289001465,-130.95579528808594,0.4635738432407379\n",
      "1500000,-84.00056457519531,97.70010974147746,23.814537048339844,15.828516006469727,10.578020095825195,-134.56370544433594,0.3420740067958832\n",
      "1520000,-74.5568618774414,95.35614018618408,23.14703369140625,15.436763763427734,13.978453636169434,-127.4510269165039,0.33190563321113586\n",
      "1540000,-69.91645812988281,95.76453248928247,31.352346420288086,22.056232452392578,8.534302711486816,-132.12860107421875,0.2692544460296631\n",
      "1560000,-69.94554901123047,109.51825299331554,21.631214141845703,18.514083862304688,16.03475570678711,-126.38172149658203,0.2561230957508087\n",
      "1580000,-64.10387420654297,114.29280016754257,25.757482528686523,27.305259704589844,10.552775382995605,-128.0643768310547,0.34499046206474304\n",
      "1600000,-77.4766845703125,104.3937273321078,22.554201126098633,16.58716583251953,10.095664978027344,-127.02301025390625,0.30929118394851685\n",
      "1620000,-72.39718627929688,114.86874526441106,22.24496078491211,18.121028900146484,10.348356246948242,-123.42261505126953,0.31108346581459045\n",
      "1640000,-67.127197265625,81.57105993876768,32.84431076049805,13.199517250061035,8.64572525024414,-122.16346740722656,0.3467191457748413\n",
      "1660000,-65.22590637207031,109.71539181569378,30.559040069580078,14.977987289428711,21.277278900146484,-132.31704711914062,0.27682802081108093\n",
      "1680000,-81.23753356933594,109.15526398518082,31.858108520507812,13.016023635864258,6.412320137023926,-132.82382202148438,0.29983365535736084\n",
      "1700000,-86.00667572021484,92.27416241514024,20.284217834472656,17.171403884887695,7.912445068359375,-131.5724639892578,0.1977245807647705\n",
      "1720000,-84.2802963256836,91.6283579294876,20.69818878173828,16.998075485229492,6.527069091796875,-128.84291076660156,0.33928805589675903\n",
      "1740000,-59.42808532714844,96.34747263769073,27.574604034423828,31.559635162353516,8.688874244689941,-127.44204711914062,0.1908489465713501\n",
      "1760000,-71.85206604003906,103.89677305675835,21.958831787109375,21.854957580566406,9.824173927307129,-125.67543029785156,0.1854056417942047\n",
      "1780000,-77.75276184082031,102.52244094653562,23.010658264160156,12.559210777282715,11.462934494018555,-124.990966796875,0.2054084837436676\n",
      "1800000,-58.38124084472656,98.96953871674141,22.472606658935547,24.36833953857422,18.34978675842285,-124.1205062866211,0.548531711101532\n",
      "1820000,-62.07351303100586,91.99816092839855,26.397048950195312,20.988605499267578,12.044063568115234,-121.66344451904297,0.16020971536636353\n",
      "1840000,-72.5528335571289,106.64895672936706,21.7701473236084,19.029232025146484,13.41546630859375,-127.10844421386719,0.340759813785553\n",
      "1860000,-82.06442260742188,97.49175299611503,28.215917587280273,14.364984512329102,9.427791595458984,-134.35260009765625,0.27948474884033203\n",
      "1880000,-67.23806762695312,104.81890072360036,24.408449172973633,21.324256896972656,11.702781677246094,-124.98225402832031,0.308695524930954\n",
      "1900000,-80.29456329345703,103.42047418020063,18.484304428100586,18.330904006958008,13.511215209960938,-130.9607696533203,0.33978143334388733\n",
      "1920000,-83.2008285522461,85.49293759080598,25.750417709350586,19.55553436279297,9.563215255737305,-138.46414184570312,0.39414626359939575\n",
      "1940000,-86.0923843383789,115.97585637231947,25.427383422851562,17.12812042236328,7.294075012207031,-136.30140686035156,0.35944896936416626\n",
      "1960000,-92.8097152709961,93.55452260992683,22.146270751953125,14.486772537231445,6.535698890686035,-136.27484130859375,0.296395868062973\n",
      "1980000,-74.54708099365234,94.68931385724076,22.33021354675293,19.568157196044922,11.847787857055664,-128.6461944580078,0.3529577851295471\n",
      "2000000,-45.05514907836914,101.1001414951393,43.08990478515625,17.579282760620117,13.253915786743164,-119.19142150878906,0.21316999197006226\n",
      "--- Finished in 66.99668145179749 seconds ---\n"
     ]
    }
   ],
   "source": [
    "import time\n",
    "\n",
    "print('Simulation started')\n",
    "start_time = time.time()\n",
    "for i in range(20000):\n",
    "    simulation.step(100)\n",
    "print(\"--- Finished in %s seconds ---\" % ((time.time() - start_time)))"
   ]
  },
  {
   "cell_type": "markdown",
   "metadata": {},
   "source": [
    "The simulation finished in approximately a minute using a laptop computer with a GeForce GTX 1050 Mobile GPU. This acceleration is due to the scaling capabilities of OpenMM using GPUs and to the high coarse graining  of the forcefield employed. However, it is important to note that 1 $ns$ simulation using an SBM model is not directly comparable to the same amount of time in a more detailed force field (e.g. fully solvated system, electrostatics, etc.). Always take into account the simplifications made by the model when interpreting the data generated by it. \n",
    "\n",
    "When running the simulation two files should have been written to the system, the energy file, \"energy.data\", and the trajectory file, \"traj.dcd\". These files should be mostly all you will need to analyse the molecular simulation and start making sense of your system. There are many python libraries you can use to analyse simulations in a very straightforward way. Here, we will use [mdtraj](http://mdtraj.org/) to show a couple plots from our short example simulation.\n",
    "\n",
    "We import mdtraj, matplotlib and numpy:"
   ]
  },
  {
   "cell_type": "code",
   "execution_count": 10,
   "metadata": {},
   "outputs": [],
   "source": [
    "import mdtraj as md\n",
    "import matplotlib.pyplot as plt\n",
    "import numpy as np"
   ]
  },
  {
   "cell_type": "code",
   "execution_count": 11,
   "metadata": {},
   "outputs": [],
   "source": [
    "energy_file = 'energy.data'\n",
    "trajectory_file = 'traj.dcd'"
   ]
  },
  {
   "cell_type": "markdown",
   "metadata": {},
   "source": [
    "First, we will plot the total potential energy to visualise the energetical progression of our system:"
   ]
  },
  {
   "cell_type": "code",
   "execution_count": 12,
   "metadata": {},
   "outputs": [
    {
     "name": "stdout",
     "output_type": "stream",
     "text": [
      "Average : -75.6309 kj/mol\n",
      "Standard deviation : 9.5809 kj/mol\n"
     ]
    },
    {
     "data": {
      "image/png": "[encoded data removed]",
      "text/plain": [
       "<Figure size 432x288 with 1 Axes>"
      ]
     },
     "metadata": {
      "needs_background": "light"
     },
     "output_type": "display_data"
    }
   ],
   "source": [
    "#Create a list to store the energy values\n",
    "potentialEnergy = []\n",
    "#Read the energy files and save the lines into a variable\n",
    "with open(energy_file) as ef:\n",
    "    lines = ef.readlines()\n",
    "    #Read the header from the second comma separated value of the first line\n",
    "    header = lines[0].split(',')[1]\n",
    "    #Iterate over all but the first line to extract the potential energy values\n",
    "    for line in lines[1:]:\n",
    "        potentialEnergy.append(float(line.split(',')[1]))\n",
    "        \n",
    "#Plot the potential energy\n",
    "plt.plot(potentialEnergy)\n",
    "plt.xlabel('Steps/100')\n",
    "plt.ylabel(header)\n",
    "plt.axhline(np.average(potentialEnergy), c='k', ls='--')\n",
    "print('Average : %.4f kj/mol' % np.average(potentialEnergy))\n",
    "print('Standard deviation : %.4f kj/mol' % np.std(potentialEnergy))"
   ]
  },
  {
   "cell_type": "markdown",
   "metadata": {},
   "source": [
    "We see that at 100 RTU the potential energy rises quickly until reaching an approximate average of -72 kj/mol and stays stable around that average with a standard deviation of approximately 10 kj/mol."
   ]
  },
  {
   "cell_type": "markdown",
   "metadata": {},
   "source": [
    "Next, we will plot the root mean squared (RMSD) deviation of the simulation with reference to the input structure. For this we will need a PDB that only contains the atoms in the simulated system. The sbmOpenMM library has a method for writing a pdb file containing just that:"
   ]
  },
  {
   "cell_type": "code",
   "execution_count": 13,
   "metadata": {},
   "outputs": [],
   "source": [
    "sbmCAModel.dumpStructure('input.pdb')"
   ]
  },
  {
   "cell_type": "markdown",
   "metadata": {},
   "source": [
    "Using mdtraj we now load the input configuration together with the trajectory, we calculate the RMSD and we plot it with matplotlib."
   ]
  },
  {
   "cell_type": "code",
   "execution_count": 14,
   "metadata": {},
   "outputs": [
    {
     "data": {
      "text/plain": [
       "Text(0, 0.5, 'RMSD [$\\\\AA$]')"
      ]
     },
     "execution_count": 14,
     "metadata": {},
     "output_type": "execute_result"
    },
    {
     "data": {
      "image/png": "[encoded data removed]",
      "text/plain": [
       "<Figure size 432x288 with 1 Axes>"
      ]
     },
     "metadata": {
      "needs_background": "light"
     },
     "output_type": "display_data"
    }
   ],
   "source": [
    "#Load input.pdb as the reference structure\n",
    "reference = md.load('input.pdb')\n",
    "#Load input.pdb as the toplogy and traj.dcd as the trajectory file\n",
    "trajectory = md.load('traj.dcd', top='input.pdb')\n",
    "#Calculate the rmsd\n",
    "rmsd = md.rmsd(trajectory, reference)*10 #Convert from nm to angstroms\n",
    "#Plot the RMSD\n",
    "plt.plot(rmsd)\n",
    "plt.xlabel('Steps/100')\n",
    "plt.ylabel('RMSD [$\\AA$]')"
   ]
  },
  {
   "cell_type": "markdown",
   "metadata": {},
   "source": [
    "We notice that the simulation is stable and that the system maintains its initial configuration, as it would be expected being the global energy minimum conformation by definition."
   ]
  },
  {
   "cell_type": "markdown",
   "metadata": {},
   "source": [
    "### Summary\n",
    "\n",
    "We have used sbmOpenMM library to generate a simulation with the default SBM CA model. The library took only two inputs to generate the simulation, a pdb file and a contact file created externally. Only one line was necessary to create the forcefield and system information, everything else is mainly the standard simulation routine with OpenMM. A special reporter class exists inside sbmOpenMM which facilitates the printing of the forcefield energies into an output file. Analysis of the simulation data is usually made post production and can be facilitated by using external python libraries. "
   ]
  }
 ],
 "metadata": {
  "kernelspec": {
   "display_name": "Python 3",
   "language": "python",
   "name": "python3"
  },
  "language_info": {
   "codemirror_mode": {
    "name": "ipython",
    "version": 3
   },
   "file_extension": ".py",
   "mimetype": "text/x-python",
   "name": "python",
   "nbconvert_exporter": "python",
   "pygments_lexer": "ipython3",
   "version": "3.6.9"
  }
 },
 "nbformat": 4,
 "nbformat_minor": 2
}
