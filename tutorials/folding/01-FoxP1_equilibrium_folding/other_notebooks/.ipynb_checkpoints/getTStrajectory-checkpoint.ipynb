{
 "cells": [
  {
   "cell_type": "code",
   "execution_count": 1,
   "metadata": {},
   "outputs": [],
   "source": [
    "import numpy as np\n",
    "import mdtraj as md\n",
    "import os\n",
    "import gc"
   ]
  },
  {
   "cell_type": "code",
   "execution_count": 2,
   "metadata": {},
   "outputs": [],
   "source": [
    "# Store aligned trajectory files\n",
    "folder = '/home/martin/Projects/FoxP/AA/FoldingSimulation_Tf/kx/'\n",
    "trajectory_files = {}\n",
    "for d in sorted(os.listdir(folder)):\n",
    "    if os.path.isdir(folder+d):\n",
    "        for f in sorted(os.listdir(folder+d)):\n",
    "            if f.endswith('.dcd'):\n",
    "                index = f.split('_')[0]\n",
    "                trajectory_files[index] = folder+d+'/'+f"
   ]
  },
  {
   "cell_type": "code",
   "execution_count": 3,
   "metadata": {},
   "outputs": [],
   "source": [
    "# Define an SBMOpenMM All-Atom SBM from the forcefield parameters file\n",
    "topology = '../input/FoxP_monomer.pdb'"
   ]
  },
  {
   "cell_type": "code",
   "execution_count": 4,
   "metadata": {},
   "outputs": [],
   "source": [
    "# Load TS frames' indexes\n",
    "folder = '../output'\n",
    "ts_frames = {}\n",
    "for f in sorted(os.listdir(folder)):\n",
    "    if f.endswith('.npy') and f.startswith('ts_frames'):\n",
    "        index = f.split('.')[0].replace('ts_frames','')\n",
    "        ts_frames[index] = np.loadtxt(folder+'/'+f).astype(int)"
   ]
  },
  {
   "cell_type": "code",
   "execution_count": 5,
   "metadata": {},
   "outputs": [
    {
     "name": "stdout",
     "output_type": "stream",
     "text": [
      "<mdtraj.Trajectory with 73 frames, 747 atoms, 88 residues, without unitcells>\n"
     ]
    }
   ],
   "source": [
    "# Merge all TS frames into one trajectory\n",
    "trajectory = None\n",
    "for i in trajectory_files:\n",
    "    traj = md.load(trajectory_files[i], top=topology)\n",
    "    # slice trajectory by the TS frames\n",
    "    traj = traj[ts_frames[i]]\n",
    "    if isinstance(topology, str):\n",
    "        topology = traj.topology\n",
    "    if isinstance(trajectory, type(None)):\n",
    "        trajectory = traj\n",
    "    else:\n",
    "        if trajectory.xyz.shape[1:] != traj.xyz.shape[1:]:\n",
    "            print('Trajectory file: '+trajectory_files[i]+' has different number of atoms \\\n",
    "                  than the reference topology! Discarding it')\n",
    "            continue       \n",
    "        traj = md.Trajectory(traj.xyz, topology)\n",
    "        trajectory = md.join((trajectory, traj))\n",
    "        gc.collect() # Free memory before moving to the next trajectory file\n",
    "\n",
    "print(trajectory)"
   ]
  },
  {
   "cell_type": "code",
   "execution_count": 6,
   "metadata": {},
   "outputs": [],
   "source": [
    "# Save trajectory\n",
    "trajectory.save('../output/ts_trajectory.dcd')"
   ]
  },
  {
   "cell_type": "code",
   "execution_count": null,
   "metadata": {},
   "outputs": [],
   "source": []
  }
 ],
 "metadata": {
  "kernelspec": {
   "display_name": "Python 3",
   "language": "python",
   "name": "python3"
  },
  "language_info": {
   "codemirror_mode": {
    "name": "ipython",
    "version": 3
   },
   "file_extension": ".py",
   "mimetype": "text/x-python",
   "name": "python",
   "nbconvert_exporter": "python",
   "pygments_lexer": "ipython3",
   "version": "3.7.8"
  }
 },
 "nbformat": 4,
 "nbformat_minor": 4
}
