{
 "cells": [
  {
   "cell_type": "markdown",
   "metadata": {},
   "source": [
    "### Introduction\n",
    "\n",
    "sbmOpenMM is a python library which facilitates setting up simulations of structure based models (SBMs), for protein systems, using the molecular dynamics (MD) framework of OpenMM. Essentially, the library reads a PDB file and creates a force field in which the input structure is defined as the global energy minimum in the potential energy function. These kind of force fields are referred to as topology-based, because, the interactions in it do not depend on the details of the chemical composition of the system, but only on the structures’ connectivities and geometries.\n",
    "\n",
    "Creating a simulation is as simple as importing the library and calling the SBM model to be used to represent the system. Mainly, two models are widely used depending on the atomic details you want to use. One of the faster and optimal method is a coarse-grained representation of the residues in the protein, in which each residue is replaced by one bead centered in each alpha-carbon atom. The model is referred as the CA model and the details of the force field can be read here. Here we review how to set up a simple simulation using the CA model, we review in a different section setting up an all-atom simulation. "
   ]
  },
  {
   "cell_type": "markdown",
   "metadata": {},
   "source": [
    "### Requirements \n",
    "\n",
    "- [OpenMM python API](http://openmm.org/)\n",
    "- [bmOpenMM library](https://bitbucket.org/compbiochbiophlab/sbm-openmm/src)\n",
    "- [MDTraj library](http://mdtraj.org/)\n",
    "- [Numpy](https://numpy.org/)\n",
    "- [Matplotlib](https://matplotlib.org/)"
   ]
  },
  {
   "cell_type": "markdown",
   "metadata": {},
   "source": [
    "### Coarse grained SBM simulations - The alpha-carbon (CA) model\n",
    "\n",
    "Briefly, in the CA model, all the alpha-carbon beads in one chain are bonded together by an harmonic potential, using the input structural distances (i.e bond lengths) as the equilibrium distances. The same idea is applied to keep the beads' angles. The torsional dihedral angles between the beads are also biased to adopt the configuration in the input structure, but through the use of a periodic torsion potential. The non-bonded interactions are modeled with special Lennard-Jones (LJ) potentials. On one hand, the native contacts defined for the target structure are maintained through a 12-10 LJ potential, which, in contrast to a typical (12-6) LJ, helps to limit interactions between the beads that would occur at very long distances. Finally, all non-native interactions (i.e. any interaction between the beads that is not a native contact nor a bonded one), are kept only as excluded volume interactions to avoid the self-crossing of the polypetide chains. This is accomplished by using only the repulsive term (12 exponent) of the the LJ potential.\n",
    "\n",
    "The sbmOpenMM library contains a model class in which default force fields can be loaded easily. But, in order to load any model from it, we first need 2 input files:\n",
    "\n",
    "1) An input PDB: The PDB file must contain the structure of the protein system to simulate, always considering that the different chains of the proteins are continuous (i.e. not missing internal residues) and do not contain ligands or solvent molecules (just the protein atoms).\n",
    "\n",
    "2) A contact file: The file contains the pair of indexes of the atoms forming native interactions, which are present in the target (native) configuration.\n",
    "\n",
    "Having the files available and in order to use the CA model for our protein system, we need first to import the sbmOpenMM library together with the [OpenMM python API](http://docs.openmm.org/development/api-python/index.html)"
   ]
  },
  {
   "cell_type": "code",
   "execution_count": 1,
   "metadata": {},
   "outputs": [],
   "source": [
    "#Import OpenMM library\n",
    "from simtk.openmm.app import *\n",
    "from simtk.openmm import *\n",
    "from simtk.unit import *\n",
    "\n",
    "#Import sbmOpenMM library\n",
    "import sbmOpenMM"
   ]
  },
  {
   "cell_type": "markdown",
   "metadata": {},
   "source": [
    "In this tutorial we will use a PDB and contact file provided in the input folder of this tutorial. The protein file was modified from the [1YPA.pdb](https://www.rcsb.org/structure/1YPA) file and contains residues 22-84 of the subtilisin-chymotrypsin inhibitor-2A. The contact file was generated using the [SMOG2](http://smog-server.org/smog2/) program using the pdb file as input."
   ]
  },
  {
   "cell_type": "code",
   "execution_count": 2,
   "metadata": {},
   "outputs": [],
   "source": [
    "#Set the input locations as variables.\n",
    "pdb_file = 'inputs/1YPA_I.pdb'\n",
    "contact_file = 'inputs/1YPA_I_CA.contacts'"
   ]
  },
  {
   "cell_type": "markdown",
   "metadata": {},
   "source": [
    "We load this two files into the sbmOpenMM.models.getCAModel() method to instantiate the sbmOpenMM.system class with default parameters for the CA model. This oject contains all the necessary information to simulate our system with openMM.\n",
    "\n",
    "It is important to note that the contact file has atom indexes associated with a configuration containing only CA atoms. For this reason it does not match the full-atom pdb file's numbering. If the files are compatible in terms of the number of residues (i.e. CA atoms) sbmOpenMM.models.getCAModel() will preserve only the CA atoms from the input pdb file. "
   ]
  },
  {
   "cell_type": "code",
   "execution_count": 3,
   "metadata": {
    "scrolled": false
   },
   "outputs": [
    {
     "name": "stdout",
     "output_type": "stream",
     "text": [
      "Generating CA SBM for PDB file inputs/1YPA_I.pdb\n",
      "\n",
      "Setting up geometrical parameters:\n",
      "_________________________________\n",
      "Keeping only carbon alpha atoms in topology\n",
      "Added 64 CA atoms\n",
      "Added 63 bonds\n",
      "Added 62 angles\n",
      "Added 61 torsions\n",
      "Reading contacts from contact file: inputs/1YPA_I_CA.contacts\n",
      "Added 164 native contacts\n",
      "\n",
      "Setting up default forcefield parameters:\n",
      "________________________________________\n",
      "Adding default bond parameters:\n",
      "Adding default angle parameters:\n",
      "Adding default torsion parameters:\n",
      "Adding default contact parameters:\n",
      "\n",
      "Adding Forces:\n",
      "_____________\n",
      "Added Harmonic Bond Forces\n",
      "Added Harmonic Angle Forces\n",
      "Added Periodic Torsion Forces\n",
      "Added Lennard Jones 12-10 Forces to native contacts\n",
      "Added Lennard Jones 12 non-bonded Forces\n",
      "\n",
      "Creating System Object:\n",
      "______________________\n",
      "The Potential Energy of the system is : -160.6621551513672 kJ/mol\n",
      "The Harmonic Bond Energy is: 1.4299672557172016e-09 kj/mol\n",
      "The Harmonic Angle Energy is: 3.439026841078885e-11 kj/mol\n",
      "The Periodic Torsion Energy is: 1.4901161193847656e-07 kj/mol\n",
      "The LJ 12-10 Contact Energy is: -164.0 kj/mol\n",
      "The LJ 12 Repulsion Energy is: 3.337839126586914 kj/mol\n",
      "\n",
      "OpenMM system Object created\n",
      "\n"
     ]
    }
   ],
   "source": [
    "#Create an sbmOpenMM.system() object and store it in \"sbmCAModelModel\" variable. \n",
    "sbmCAModel = sbmOpenMM.models.getCAModel(pdb_file, contact_file)"
   ]
  },
  {
   "cell_type": "markdown",
   "metadata": {},
   "source": [
    "We can use the output to follow the steps that were executed to create the sbmOpenMM system object. First, the input pdb is read and an OpenMM topology object is created from it. After this, only alpha-carbon atoms are kept and all their bonds, angles and torsions values are caculated and stored. The contact file is also read and the pairs defined inside are added as native contacts. Then, the method adds the default parameters and forces for the specified model (CA in this case) and, finally, it creates an openmm.system object. All the parameters created are stored inside the attributes of the sbmOpenMM.system() object (sbmCAModel in our case). \n",
    "\n",
    "In the last printed output we can see the potential energy details of the input configuration given the newly created SBM force field. Note that most of the energy terms in the force field are zero, except for the non-bonded terms. The LJ 12-10 term is negative, because it reflects the favorable native contact interactions. On the other hand, the LJ 12 term is positive because it represents the repulsion force accounting for the excuded volume of the beads. Remember that in this model all the beads radii are equal and arbitrarily selected (for more details see).  "
   ]
  },
  {
   "cell_type": "markdown",
   "metadata": {},
   "source": [
    "Now that we have succesfully created our SBM model we can simulate it using OpenMM. For this we are going to employ a [Langevin Integrator](http://docs.openmm.org/development/api-python/generated/simtk.openmm.openmm.LangevinIntegrator.html) with a friction coefficient of 1 $ps^{−1}$, an arbitrary temperature of 100 reduced-temperature-units (RTU) and a timestep of 0.5 $fs$."
   ]
  },
  {
   "cell_type": "code",
   "execution_count": 4,
   "metadata": {},
   "outputs": [],
   "source": [
    "#Define integrator and context for the simulation\n",
    "integrator = LangevinIntegrator(100, 1/picosecond, 0.5*femtoseconds)\n",
    "simulation = Simulation(sbmCAModel.topology, sbmCAModel.system, integrator)"
   ]
  },
  {
   "cell_type": "markdown",
   "metadata": {},
   "source": [
    "We also have to create a simulation context, which is initilised with an OpenMM topology, system and integrator. The first two are stored as attributes in our \"sbmCAModel\" object. Finally, we give the initial positions of our system to this newly created OpenMM context:"
   ]
  },
  {
   "cell_type": "code",
   "execution_count": 5,
   "metadata": {},
   "outputs": [],
   "source": [
    "#Set initial positions\n",
    "simulation.context.setPositions(sbmCAModel.positions)"
   ]
  },
  {
   "cell_type": "markdown",
   "metadata": {},
   "source": [
    "Before running the simulation we would like to set up the storing of the output information into files. This makes it easier to analyse the simulations later using separate scripts. In OpenMM this is controlled passing reporters to the OpenMM simulation object. We will create at least two reporters for running the SBM simulation. \n",
    "\n",
    "First, we add a DCD reporter which allows us to write a binary trajectory file containing the coordinates of the simulation every a specified number steps."
   ]
  },
  {
   "cell_type": "code",
   "execution_count": 6,
   "metadata": {},
   "outputs": [],
   "source": [
    "#Add a DCD reporter that writes coordinates every 100 steps.\n",
    "simulation.reporters.append(DCDReporter('traj.dcd', 100))"
   ]
  },
  {
   "cell_type": "markdown",
   "metadata": {},
   "source": [
    "Then, we will add a special reporter that will allow us to easily print all the energy terms in our SBM force field into a file:"
   ]
  },
  {
   "cell_type": "code",
   "execution_count": 7,
   "metadata": {},
   "outputs": [],
   "source": [
    "#Add a SBM reporter that writes energies every 100 steps.\n",
    "simulation.reporters.append(sbmOpenMM.sbmReporter('energy.data', 100, sbmObject=sbmCAModel,\n",
    "                                                  step=True, potentialEnergy=True, temperature=True))"
   ]
  },
  {
   "cell_type": "markdown",
   "metadata": {},
   "source": [
    "Note that this reporter is a special version of the [StateDataReporter](http://docs.openmm.org/7.0.0/api-python/generated/simtk.openmm.app.statedatareporter.StateDataReporter.html) class in OpenMM, which additionally takes the SBM object as a keyword argument. When the SBM object is given, the reporter additionally prints all the energy terms of the SBM force field into the reporter file."
   ]
  },
  {
   "cell_type": "markdown",
   "metadata": {},
   "source": [
    "Optionally, we can make this reporter to print the energies as standard output for visualising it while we run the script:"
   ]
  },
  {
   "cell_type": "code",
   "execution_count": 8,
   "metadata": {},
   "outputs": [],
   "source": [
    "from sys import stdout\n",
    "#Add a SBM reporter that prints energies every 100 steps.\n",
    "simulation.reporters.append(sbmOpenMM.sbmReporter(stdout, 100, sbmObject=sbmCAModel,\n",
    "                                                  step=True, potentialEnergy=True, temperature=True))"
   ]
  },
  {
   "cell_type": "markdown",
   "metadata": {},
   "source": [
    "Now we can proceed with the molecular simulation. We will run the system and follow its trajectory during 2M steps (1 ns) of MD."
   ]
  },
  {
   "cell_type": "code",
   "execution_count": 9,
   "metadata": {},
   "outputs": [
    {
     "name": "stdout",
     "output_type": "stream",
     "text": [
      "Simulation started\n",
      "--- Finished in 75.63046455383301 seconds ---\n"
     ]
    }
   ],
   "source": [
    "import time\n",
    "\n",
    "print('Simulation started')\n",
    "start_time = time.time()\n",
    "for i in range(20000):\n",
    "    simulation.step(100)\n",
    "print(\"--- Finished in %s seconds ---\" % ((time.time() - start_time)))"
   ]
  },
  {
   "cell_type": "markdown",
   "metadata": {},
   "source": [
    "The simulation finished in approximately a minute using a laptop computer with a GeForce GTX 1050 Mobile GPU. This acceleration is due to the scaling capabilities of OpenMM using GPUs and to the high coarse graining  of the forcefield employed. However, it is important to note that 1 $ns$ simulation using an SBM model is not directly comparable to the same amount of time in a more detailed force field (e.g. fully solvated system, electrostatics, etc.). Always take into account the simplifications made by the model when interpreting the data generated by it. \n",
    "\n",
    "When running the simulation two files should have been written to the system, the energy file, \"energy.data\", and the trajectory file, \"traj.dcd\". These files should be mostly all you will need to analyse the molecular simulation and start making sense of your system. There are many python libraries you can use to analyse simulations in a very straightforward way. Here, we will use [mdtraj](http://mdtraj.org/) to show a couple plots from our short example simulation.\n",
    "\n",
    "We import mdtraj, matplotlib and numpy:"
   ]
  },
  {
   "cell_type": "code",
   "execution_count": 10,
   "metadata": {},
   "outputs": [],
   "source": [
    "import mdtraj as md\n",
    "import matplotlib.pyplot as plt\n",
    "import numpy as np"
   ]
  },
  {
   "cell_type": "code",
   "execution_count": 11,
   "metadata": {},
   "outputs": [],
   "source": [
    "energy_file = 'energy.data'\n",
    "trajectory_file = 'traj.dcd'"
   ]
  },
  {
   "cell_type": "markdown",
   "metadata": {},
   "source": [
    "First, we will plot the total potential energy to visualise the energetical progression of our system:"
   ]
  },
  {
   "cell_type": "code",
   "execution_count": 15,
   "metadata": {},
   "outputs": [
    {
     "name": "stdout",
     "output_type": "stream",
     "text": [
      "Average : -72.7867 kj/mol\n",
      "Standard deviation : 9.7172 kj/mol\n"
     ]
    },
    {
     "data": {
      "image/png": "[encoded data removed]",
      "text/plain": [
       "<Figure size 432x288 with 1 Axes>"
      ]
     },
     "metadata": {
      "needs_background": "light"
     },
     "output_type": "display_data"
    }
   ],
   "source": [
    "#Create a list to store the energy values\n",
    "potentialEnergy = []\n",
    "#Read the energy files and save the lines into a variable\n",
    "with open(energy_file) as ef:\n",
    "    lines = ef.readlines()\n",
    "    #Read the header from the second comma separated value of the first line\n",
    "    header = lines[0].split(',')[1]\n",
    "    #Iterate over all but the first line to extract the potential energy values\n",
    "    for line in lines[1:]:\n",
    "        potentialEnergy.append(float(line.split(',')[1]))\n",
    "        \n",
    "#Plot the potential energy\n",
    "plt.plot(potentialEnergy)\n",
    "plt.xlabel('Steps/100')\n",
    "plt.ylabel(header)\n",
    "plt.axhline(np.average(potentialEnergy), c='k', ls='--')\n",
    "print('Average : %.4f kj/mol' % np.average(potentialEnergy))\n",
    "print('Standard deviation : %.4f kj/mol' % np.std(potentialEnergy))"
   ]
  },
  {
   "cell_type": "markdown",
   "metadata": {},
   "source": [
    "We see that at 100 RTU the potential energy rises quickly until reaching an approximate average of -72 kj/mol and stays stable around that average with a standard deviation of approximately 10 kj/mol."
   ]
  },
  {
   "cell_type": "markdown",
   "metadata": {},
   "source": [
    "Next, we will plot the root mean squared (RMSD) deviation of the simulation with reference to the input structure. For this we will need a PDB that only contains the atoms in the simulated system. The sbmOpenMM library has a method for writing a pdb file containing just that:"
   ]
  },
  {
   "cell_type": "code",
   "execution_count": 13,
   "metadata": {},
   "outputs": [],
   "source": [
    "sbmCAModel.dumpPdb('input.pdb')"
   ]
  },
  {
   "cell_type": "markdown",
   "metadata": {},
   "source": [
    "Using mdtraj we now load the input configuration together with the trajectory, we calculate the RMSD and we plot it with matplotlib."
   ]
  },
  {
   "cell_type": "code",
   "execution_count": 14,
   "metadata": {},
   "outputs": [
    {
     "data": {
      "text/plain": [
       "Text(0, 0.5, 'RMSD [$\\\\AA$]')"
      ]
     },
     "execution_count": 14,
     "metadata": {},
     "output_type": "execute_result"
    },
    {
     "data": {
      "image/png": "[encoded data removed]",
      "text/plain": [
       "<Figure size 432x288 with 1 Axes>"
      ]
     },
     "metadata": {
      "needs_background": "light"
     },
     "output_type": "display_data"
    }
   ],
   "source": [
    "#Load input.pdb as the reference structure\n",
    "reference = md.load('input.pdb')\n",
    "#Load input.pdb as the toplogy and traj.dcd as the trajectory file\n",
    "trajectory = md.load('traj.dcd', top='input.pdb')\n",
    "#Calculate the rmsd\n",
    "rmsd = md.rmsd(trajectory, reference)*10 #Convert from nm to angstroms\n",
    "#Plot the RMSD\n",
    "plt.plot(rmsd)\n",
    "plt.xlabel('Steps/100')\n",
    "plt.ylabel('RMSD [$\\AA$]')"
   ]
  },
  {
   "cell_type": "markdown",
   "metadata": {},
   "source": [
    "We notice that the simulation is stable and that the system maintains its initial configuration, as it would be expected being the global energy minimum conformation by definition."
   ]
  },
  {
   "cell_type": "markdown",
   "metadata": {},
   "source": [
    "### Summary\n",
    "\n",
    "We have used sbmOpenMM library to generate a simulation with the default SBM CA model. The library took only two inputs to generate the simulation, a pdb file and a contact file created externally. Only one line was necessary to create the forcefield and system information, everything else is mainly the standard simulation routine with OpenMM. A special reporter class exists inside sbmOpenMM which facilitates the printing of the forcefield energies into an output file. Analysis of the simulation data is usually made post production and can be facilitated by using external python libraries. "
   ]
  }
 ],
 "metadata": {
  "kernelspec": {
   "display_name": "Python 3",
   "language": "python",
   "name": "python3"
  },
  "language_info": {
   "codemirror_mode": {
    "name": "ipython",
    "version": 3
   },
   "file_extension": ".py",
   "mimetype": "text/x-python",
   "name": "python",
   "nbconvert_exporter": "python",
   "pygments_lexer": "ipython3",
   "version": "3.6.9"
  }
 },
 "nbformat": 4,
 "nbformat_minor": 2
}
